{
 "cells":[
  {
   "cell_type":"code",
   "source":[
    "seed = 274"
   ],
   "execution_count":1,
   "outputs":[
    
   ],
   "metadata":{
    "datalore":{
     "node_id":"mheuTPMgjhXYiPbi2blO47",
     "type":"CODE",
     "hide_input_from_viewers":false,
     "hide_output_from_viewers":false,
     "report_properties":{
      "rowId":"Lx4OtnsAr9hOkFXY7BOV68",
      "relativeY":0
     }
    }
   }
  },
  {
   "cell_type":"code",
   "source":[
    "import pandas as pd\n",
    "import numpy as np\n",
    "from sklearn.utils import all_estimators\n",
    "import seaborn as sns\n",
    "import sklearn\n",
    "import os\n",
    "from matplotlib import pyplot as plt\n",
    "import plotly.express as px"
   ],
   "execution_count":2,
   "outputs":[
    
   ],
   "metadata":{
    "datalore":{
     "node_id":"Q1a10PHhSgmbODvIVBatHr",
     "type":"CODE",
     "hide_input_from_viewers":false,
     "hide_output_from_viewers":false,
     "report_properties":{
      "rowId":"Lx4OtnsAr9hOkFXY7BOV68",
      "relativeY":0
     }
    }
   }
  },
  {
   "cell_type":"code",
   "source":[
    "filter = None\n",
    "estimators = all_estimators(filter)\n",
    "estimators = dict(estimators)"
   ],
   "execution_count":3,
   "outputs":[
    
   ],
   "metadata":{
    "datalore":{
     "node_id":"c2n5AGLRNrs656N4vg3b8f",
     "type":"CODE",
     "hide_input_from_viewers":false,
     "hide_output_from_viewers":false,
     "report_properties":{
      "rowId":"Lx4OtnsAr9hOkFXY7BOV68",
      "relativeY":0
     }
    }
   }
  },
  {
   "cell_type":"code",
   "source":[
    "path = os.path.join(os.path.sep, \"data\", \"workspace_files\", \"train.csv\")\n",
    "identifier = \"PassengerId\"\n",
    "target = \"Survived\"\n",
    "dtype = {target: \"category\"}\n",
    "arguments = {\"filepath_or_buffer\": path, \"index_col\": identifier, \"dtype\": dtype}\n",
    "data = pd.read_csv(**arguments)"
   ],
   "execution_count":4,
   "outputs":[
    
   ],
   "metadata":{
    "datalore":{
     "node_id":"Ty4XhHsk8UugK2Oa2Xic3c",
     "type":"CODE",
     "hide_input_from_viewers":false,
     "hide_output_from_viewers":false,
     "report_properties":{
      "rowId":"Lx4OtnsAr9hOkFXY7BOV68",
      "relativeY":0
     }
    }
   }
  },
  {
   "cell_type":"markdown",
   "source":[
    "La variable arguments permite mostrar los datos aleatorios siempre en función de la seed. Lo que hace la libreta más reproducible."
   ],
   "attachments":{
    
   },
   "metadata":{
    "datalore":{
     "node_id":"zZqWssbIzq8vhEyFxcX5XZ",
     "type":"MD",
     "hide_input_from_viewers":false,
     "hide_output_from_viewers":false,
     "report_properties":{
      "rowId":"Lx4OtnsAr9hOkFXY7BOV68",
      "relativeY":0
     }
    }
   }
  },
  {
   "cell_type":"code",
   "source":[
    "\n",
    "arguments = {\"n\":10, \"random_state\": seed}"
   ],
   "execution_count":5,
   "outputs":[
    
   ],
   "metadata":{
    "datalore":{
     "node_id":"sLPQqtxKJBt4LnM3mfZnXN",
     "type":"CODE",
     "hide_input_from_viewers":false,
     "hide_output_from_viewers":false,
     "report_properties":{
      "rowId":"Lx4OtnsAr9hOkFXY7BOV68",
      "relativeY":0
     }
    }
   }
  },
  {
   "cell_type":"code",
   "source":[
    "data.sample(**arguments)"
   ],
   "execution_count":6,
   "outputs":[
    {
     "data":{
      "text\/html":[
       "<div>\n",
       "<style scoped>\n",
       "    .dataframe tbody tr th:only-of-type {\n",
       "        vertical-align: middle;\n",
       "    }\n",
       "\n",
       "    .dataframe tbody tr th {\n",
       "        vertical-align: top;\n",
       "    }\n",
       "\n",
       "    .dataframe thead th {\n",
       "        text-align: right;\n",
       "    }\n",
       "<\/style>\n",
       "<table border=\"1\" class=\"dataframe\">\n",
       "  <thead>\n",
       "    <tr style=\"text-align: right;\">\n",
       "      <th><\/th>\n",
       "      <th>Survived<\/th>\n",
       "      <th>Pclass<\/th>\n",
       "      <th>Name<\/th>\n",
       "      <th>Sex<\/th>\n",
       "      <th>Age<\/th>\n",
       "      <th>SibSp<\/th>\n",
       "      <th>Parch<\/th>\n",
       "      <th>Ticket<\/th>\n",
       "      <th>Fare<\/th>\n",
       "      <th>Cabin<\/th>\n",
       "      <th>Embarked<\/th>\n",
       "    <\/tr>\n",
       "    <tr>\n",
       "      <th>PassengerId<\/th>\n",
       "      <th><\/th>\n",
       "      <th><\/th>\n",
       "      <th><\/th>\n",
       "      <th><\/th>\n",
       "      <th><\/th>\n",
       "      <th><\/th>\n",
       "      <th><\/th>\n",
       "      <th><\/th>\n",
       "      <th><\/th>\n",
       "      <th><\/th>\n",
       "      <th><\/th>\n",
       "    <\/tr>\n",
       "  <\/thead>\n",
       "  <tbody>\n",
       "    <tr>\n",
       "      <th>383<\/th>\n",
       "      <td>0<\/td>\n",
       "      <td>3<\/td>\n",
       "      <td>Tikkanen, Mr. Juho<\/td>\n",
       "      <td>male<\/td>\n",
       "      <td>32.0<\/td>\n",
       "      <td>0<\/td>\n",
       "      <td>0<\/td>\n",
       "      <td>STON\/O 2. 3101293<\/td>\n",
       "      <td>7.9250<\/td>\n",
       "      <td>NaN<\/td>\n",
       "      <td>S<\/td>\n",
       "    <\/tr>\n",
       "    <tr>\n",
       "      <th>827<\/th>\n",
       "      <td>0<\/td>\n",
       "      <td>3<\/td>\n",
       "      <td>Lam, Mr. Len<\/td>\n",
       "      <td>male<\/td>\n",
       "      <td>NaN<\/td>\n",
       "      <td>0<\/td>\n",
       "      <td>0<\/td>\n",
       "      <td>1601<\/td>\n",
       "      <td>56.4958<\/td>\n",
       "      <td>NaN<\/td>\n",
       "      <td>S<\/td>\n",
       "    <\/tr>\n",
       "    <tr>\n",
       "      <th>456<\/th>\n",
       "      <td>1<\/td>\n",
       "      <td>3<\/td>\n",
       "      <td>Jalsevac, Mr. Ivan<\/td>\n",
       "      <td>male<\/td>\n",
       "      <td>29.0<\/td>\n",
       "      <td>0<\/td>\n",
       "      <td>0<\/td>\n",
       "      <td>349240<\/td>\n",
       "      <td>7.8958<\/td>\n",
       "      <td>NaN<\/td>\n",
       "      <td>C<\/td>\n",
       "    <\/tr>\n",
       "    <tr>\n",
       "      <th>816<\/th>\n",
       "      <td>0<\/td>\n",
       "      <td>1<\/td>\n",
       "      <td>Fry, Mr. Richard<\/td>\n",
       "      <td>male<\/td>\n",
       "      <td>NaN<\/td>\n",
       "      <td>0<\/td>\n",
       "      <td>0<\/td>\n",
       "      <td>112058<\/td>\n",
       "      <td>0.0000<\/td>\n",
       "      <td>B102<\/td>\n",
       "      <td>S<\/td>\n",
       "    <\/tr>\n",
       "    <tr>\n",
       "      <th>141<\/th>\n",
       "      <td>0<\/td>\n",
       "      <td>3<\/td>\n",
       "      <td>Boulos, Mrs. Joseph (Sultana)<\/td>\n",
       "      <td>female<\/td>\n",
       "      <td>NaN<\/td>\n",
       "      <td>0<\/td>\n",
       "      <td>2<\/td>\n",
       "      <td>2678<\/td>\n",
       "      <td>15.2458<\/td>\n",
       "      <td>NaN<\/td>\n",
       "      <td>C<\/td>\n",
       "    <\/tr>\n",
       "    <tr>\n",
       "      <th>783<\/th>\n",
       "      <td>0<\/td>\n",
       "      <td>1<\/td>\n",
       "      <td>Long, Mr. Milton Clyde<\/td>\n",
       "      <td>male<\/td>\n",
       "      <td>29.0<\/td>\n",
       "      <td>0<\/td>\n",
       "      <td>0<\/td>\n",
       "      <td>113501<\/td>\n",
       "      <td>30.0000<\/td>\n",
       "      <td>D6<\/td>\n",
       "      <td>S<\/td>\n",
       "    <\/tr>\n",
       "    <tr>\n",
       "      <th>234<\/th>\n",
       "      <td>1<\/td>\n",
       "      <td>3<\/td>\n",
       "      <td>Asplund, Miss. Lillian Gertrud<\/td>\n",
       "      <td>female<\/td>\n",
       "      <td>5.0<\/td>\n",
       "      <td>4<\/td>\n",
       "      <td>2<\/td>\n",
       "      <td>347077<\/td>\n",
       "      <td>31.3875<\/td>\n",
       "      <td>NaN<\/td>\n",
       "      <td>S<\/td>\n",
       "    <\/tr>\n",
       "    <tr>\n",
       "      <th>740<\/th>\n",
       "      <td>0<\/td>\n",
       "      <td>3<\/td>\n",
       "      <td>Nankoff, Mr. Minko<\/td>\n",
       "      <td>male<\/td>\n",
       "      <td>NaN<\/td>\n",
       "      <td>0<\/td>\n",
       "      <td>0<\/td>\n",
       "      <td>349218<\/td>\n",
       "      <td>7.8958<\/td>\n",
       "      <td>NaN<\/td>\n",
       "      <td>S<\/td>\n",
       "    <\/tr>\n",
       "    <tr>\n",
       "      <th>430<\/th>\n",
       "      <td>1<\/td>\n",
       "      <td>3<\/td>\n",
       "      <td>Pickard, Mr. Berk (Berk Trembisky)<\/td>\n",
       "      <td>male<\/td>\n",
       "      <td>32.0<\/td>\n",
       "      <td>0<\/td>\n",
       "      <td>0<\/td>\n",
       "      <td>SOTON\/O.Q. 392078<\/td>\n",
       "      <td>8.0500<\/td>\n",
       "      <td>E10<\/td>\n",
       "      <td>S<\/td>\n",
       "    <\/tr>\n",
       "    <tr>\n",
       "      <th>196<\/th>\n",
       "      <td>1<\/td>\n",
       "      <td>1<\/td>\n",
       "      <td>Lurette, Miss. Elise<\/td>\n",
       "      <td>female<\/td>\n",
       "      <td>58.0<\/td>\n",
       "      <td>0<\/td>\n",
       "      <td>0<\/td>\n",
       "      <td>PC 17569<\/td>\n",
       "      <td>146.5208<\/td>\n",
       "      <td>B80<\/td>\n",
       "      <td>C<\/td>\n",
       "    <\/tr>\n",
       "  <\/tbody>\n",
       "<\/table>\n",
       "<\/div>"
      ]
     },
     "metadata":{
      
     },
     "output_type":"display_data"
    }
   ],
   "metadata":{
    "datalore":{
     "node_id":"SES8sP15Uf7RvTCtSb1g2I",
     "type":"CODE",
     "hide_input_from_viewers":false,
     "hide_output_from_viewers":false,
     "report_properties":{
      "rowId":"Lx4OtnsAr9hOkFXY7BOV68",
      "relativeY":0
     }
    }
   }
  },
  {
   "cell_type":"code",
   "source":[
    "arguments = {\"labels\": target, \"axis\": \"columns\"}\n",
    "X = data.drop(**arguments)\n",
    "y = data[target]\n",
    "train = X.copy()\n",
    "train['Survived'] = y.copy()\n",
    "train"
   ],
   "execution_count":7,
   "outputs":[
    {
     "data":{
      "text\/html":[
       "<div>\n",
       "<style scoped>\n",
       "    .dataframe tbody tr th:only-of-type {\n",
       "        vertical-align: middle;\n",
       "    }\n",
       "\n",
       "    .dataframe tbody tr th {\n",
       "        vertical-align: top;\n",
       "    }\n",
       "\n",
       "    .dataframe thead th {\n",
       "        text-align: right;\n",
       "    }\n",
       "<\/style>\n",
       "<table border=\"1\" class=\"dataframe\">\n",
       "  <thead>\n",
       "    <tr style=\"text-align: right;\">\n",
       "      <th><\/th>\n",
       "      <th>Pclass<\/th>\n",
       "      <th>Name<\/th>\n",
       "      <th>Sex<\/th>\n",
       "      <th>Age<\/th>\n",
       "      <th>SibSp<\/th>\n",
       "      <th>Parch<\/th>\n",
       "      <th>Ticket<\/th>\n",
       "      <th>Fare<\/th>\n",
       "      <th>Cabin<\/th>\n",
       "      <th>Embarked<\/th>\n",
       "      <th>Survived<\/th>\n",
       "    <\/tr>\n",
       "    <tr>\n",
       "      <th>PassengerId<\/th>\n",
       "      <th><\/th>\n",
       "      <th><\/th>\n",
       "      <th><\/th>\n",
       "      <th><\/th>\n",
       "      <th><\/th>\n",
       "      <th><\/th>\n",
       "      <th><\/th>\n",
       "      <th><\/th>\n",
       "      <th><\/th>\n",
       "      <th><\/th>\n",
       "      <th><\/th>\n",
       "    <\/tr>\n",
       "  <\/thead>\n",
       "  <tbody>\n",
       "    <tr>\n",
       "      <th>1<\/th>\n",
       "      <td>3<\/td>\n",
       "      <td>Braund, Mr. Owen Harris<\/td>\n",
       "      <td>male<\/td>\n",
       "      <td>22.0<\/td>\n",
       "      <td>1<\/td>\n",
       "      <td>0<\/td>\n",
       "      <td>A\/5 21171<\/td>\n",
       "      <td>7.2500<\/td>\n",
       "      <td>NaN<\/td>\n",
       "      <td>S<\/td>\n",
       "      <td>0<\/td>\n",
       "    <\/tr>\n",
       "    <tr>\n",
       "      <th>2<\/th>\n",
       "      <td>1<\/td>\n",
       "      <td>Cumings, Mrs. John Bradley (Florence Briggs Th...<\/td>\n",
       "      <td>female<\/td>\n",
       "      <td>38.0<\/td>\n",
       "      <td>1<\/td>\n",
       "      <td>0<\/td>\n",
       "      <td>PC 17599<\/td>\n",
       "      <td>71.2833<\/td>\n",
       "      <td>C85<\/td>\n",
       "      <td>C<\/td>\n",
       "      <td>1<\/td>\n",
       "    <\/tr>\n",
       "    <tr>\n",
       "      <th>3<\/th>\n",
       "      <td>3<\/td>\n",
       "      <td>Heikkinen, Miss. Laina<\/td>\n",
       "      <td>female<\/td>\n",
       "      <td>26.0<\/td>\n",
       "      <td>0<\/td>\n",
       "      <td>0<\/td>\n",
       "      <td>STON\/O2. 3101282<\/td>\n",
       "      <td>7.9250<\/td>\n",
       "      <td>NaN<\/td>\n",
       "      <td>S<\/td>\n",
       "      <td>1<\/td>\n",
       "    <\/tr>\n",
       "    <tr>\n",
       "      <th>4<\/th>\n",
       "      <td>1<\/td>\n",
       "      <td>Futrelle, Mrs. Jacques Heath (Lily May Peel)<\/td>\n",
       "      <td>female<\/td>\n",
       "      <td>35.0<\/td>\n",
       "      <td>1<\/td>\n",
       "      <td>0<\/td>\n",
       "      <td>113803<\/td>\n",
       "      <td>53.1000<\/td>\n",
       "      <td>C123<\/td>\n",
       "      <td>S<\/td>\n",
       "      <td>1<\/td>\n",
       "    <\/tr>\n",
       "    <tr>\n",
       "      <th>5<\/th>\n",
       "      <td>3<\/td>\n",
       "      <td>Allen, Mr. William Henry<\/td>\n",
       "      <td>male<\/td>\n",
       "      <td>35.0<\/td>\n",
       "      <td>0<\/td>\n",
       "      <td>0<\/td>\n",
       "      <td>373450<\/td>\n",
       "      <td>8.0500<\/td>\n",
       "      <td>NaN<\/td>\n",
       "      <td>S<\/td>\n",
       "      <td>0<\/td>\n",
       "    <\/tr>\n",
       "    <tr>\n",
       "      <th>...<\/th>\n",
       "      <td>...<\/td>\n",
       "      <td>...<\/td>\n",
       "      <td>...<\/td>\n",
       "      <td>...<\/td>\n",
       "      <td>...<\/td>\n",
       "      <td>...<\/td>\n",
       "      <td>...<\/td>\n",
       "      <td>...<\/td>\n",
       "      <td>...<\/td>\n",
       "      <td>...<\/td>\n",
       "      <td>...<\/td>\n",
       "    <\/tr>\n",
       "    <tr>\n",
       "      <th>887<\/th>\n",
       "      <td>2<\/td>\n",
       "      <td>Montvila, Rev. Juozas<\/td>\n",
       "      <td>male<\/td>\n",
       "      <td>27.0<\/td>\n",
       "      <td>0<\/td>\n",
       "      <td>0<\/td>\n",
       "      <td>211536<\/td>\n",
       "      <td>13.0000<\/td>\n",
       "      <td>NaN<\/td>\n",
       "      <td>S<\/td>\n",
       "      <td>0<\/td>\n",
       "    <\/tr>\n",
       "    <tr>\n",
       "      <th>888<\/th>\n",
       "      <td>1<\/td>\n",
       "      <td>Graham, Miss. Margaret Edith<\/td>\n",
       "      <td>female<\/td>\n",
       "      <td>19.0<\/td>\n",
       "      <td>0<\/td>\n",
       "      <td>0<\/td>\n",
       "      <td>112053<\/td>\n",
       "      <td>30.0000<\/td>\n",
       "      <td>B42<\/td>\n",
       "      <td>S<\/td>\n",
       "      <td>1<\/td>\n",
       "    <\/tr>\n",
       "    <tr>\n",
       "      <th>889<\/th>\n",
       "      <td>3<\/td>\n",
       "      <td>Johnston, Miss. Catherine Helen \"Carrie\"<\/td>\n",
       "      <td>female<\/td>\n",
       "      <td>NaN<\/td>\n",
       "      <td>1<\/td>\n",
       "      <td>2<\/td>\n",
       "      <td>W.\/C. 6607<\/td>\n",
       "      <td>23.4500<\/td>\n",
       "      <td>NaN<\/td>\n",
       "      <td>S<\/td>\n",
       "      <td>0<\/td>\n",
       "    <\/tr>\n",
       "    <tr>\n",
       "      <th>890<\/th>\n",
       "      <td>1<\/td>\n",
       "      <td>Behr, Mr. Karl Howell<\/td>\n",
       "      <td>male<\/td>\n",
       "      <td>26.0<\/td>\n",
       "      <td>0<\/td>\n",
       "      <td>0<\/td>\n",
       "      <td>111369<\/td>\n",
       "      <td>30.0000<\/td>\n",
       "      <td>C148<\/td>\n",
       "      <td>C<\/td>\n",
       "      <td>1<\/td>\n",
       "    <\/tr>\n",
       "    <tr>\n",
       "      <th>891<\/th>\n",
       "      <td>3<\/td>\n",
       "      <td>Dooley, Mr. Patrick<\/td>\n",
       "      <td>male<\/td>\n",
       "      <td>32.0<\/td>\n",
       "      <td>0<\/td>\n",
       "      <td>0<\/td>\n",
       "      <td>370376<\/td>\n",
       "      <td>7.7500<\/td>\n",
       "      <td>NaN<\/td>\n",
       "      <td>Q<\/td>\n",
       "      <td>0<\/td>\n",
       "    <\/tr>\n",
       "  <\/tbody>\n",
       "<\/table>\n",
       "<p>891 rows × 11 columns<\/p>\n",
       "<\/div>"
      ]
     },
     "metadata":{
      
     },
     "output_type":"display_data"
    }
   ],
   "metadata":{
    "datalore":{
     "node_id":"p0sxpkEgGC3hbUa3PTsDVi",
     "type":"CODE",
     "hide_input_from_viewers":false,
     "hide_output_from_viewers":false,
     "report_properties":{
      "rowId":"Lx4OtnsAr9hOkFXY7BOV68",
      "relativeY":0
     }
    }
   }
  },
  {
   "cell_type":"code",
   "source":[
    "arguments = {\"n\": 5, \"random_state\": seed}\n",
    "X.sample(**arguments)"
   ],
   "execution_count":8,
   "outputs":[
    {
     "data":{
      "text\/html":[
       "<div>\n",
       "<style scoped>\n",
       "    .dataframe tbody tr th:only-of-type {\n",
       "        vertical-align: middle;\n",
       "    }\n",
       "\n",
       "    .dataframe tbody tr th {\n",
       "        vertical-align: top;\n",
       "    }\n",
       "\n",
       "    .dataframe thead th {\n",
       "        text-align: right;\n",
       "    }\n",
       "<\/style>\n",
       "<table border=\"1\" class=\"dataframe\">\n",
       "  <thead>\n",
       "    <tr style=\"text-align: right;\">\n",
       "      <th><\/th>\n",
       "      <th>Pclass<\/th>\n",
       "      <th>Name<\/th>\n",
       "      <th>Sex<\/th>\n",
       "      <th>Age<\/th>\n",
       "      <th>SibSp<\/th>\n",
       "      <th>Parch<\/th>\n",
       "      <th>Ticket<\/th>\n",
       "      <th>Fare<\/th>\n",
       "      <th>Cabin<\/th>\n",
       "      <th>Embarked<\/th>\n",
       "    <\/tr>\n",
       "    <tr>\n",
       "      <th>PassengerId<\/th>\n",
       "      <th><\/th>\n",
       "      <th><\/th>\n",
       "      <th><\/th>\n",
       "      <th><\/th>\n",
       "      <th><\/th>\n",
       "      <th><\/th>\n",
       "      <th><\/th>\n",
       "      <th><\/th>\n",
       "      <th><\/th>\n",
       "      <th><\/th>\n",
       "    <\/tr>\n",
       "  <\/thead>\n",
       "  <tbody>\n",
       "    <tr>\n",
       "      <th>383<\/th>\n",
       "      <td>3<\/td>\n",
       "      <td>Tikkanen, Mr. Juho<\/td>\n",
       "      <td>male<\/td>\n",
       "      <td>32.0<\/td>\n",
       "      <td>0<\/td>\n",
       "      <td>0<\/td>\n",
       "      <td>STON\/O 2. 3101293<\/td>\n",
       "      <td>7.9250<\/td>\n",
       "      <td>NaN<\/td>\n",
       "      <td>S<\/td>\n",
       "    <\/tr>\n",
       "    <tr>\n",
       "      <th>827<\/th>\n",
       "      <td>3<\/td>\n",
       "      <td>Lam, Mr. Len<\/td>\n",
       "      <td>male<\/td>\n",
       "      <td>NaN<\/td>\n",
       "      <td>0<\/td>\n",
       "      <td>0<\/td>\n",
       "      <td>1601<\/td>\n",
       "      <td>56.4958<\/td>\n",
       "      <td>NaN<\/td>\n",
       "      <td>S<\/td>\n",
       "    <\/tr>\n",
       "    <tr>\n",
       "      <th>456<\/th>\n",
       "      <td>3<\/td>\n",
       "      <td>Jalsevac, Mr. Ivan<\/td>\n",
       "      <td>male<\/td>\n",
       "      <td>29.0<\/td>\n",
       "      <td>0<\/td>\n",
       "      <td>0<\/td>\n",
       "      <td>349240<\/td>\n",
       "      <td>7.8958<\/td>\n",
       "      <td>NaN<\/td>\n",
       "      <td>C<\/td>\n",
       "    <\/tr>\n",
       "    <tr>\n",
       "      <th>816<\/th>\n",
       "      <td>1<\/td>\n",
       "      <td>Fry, Mr. Richard<\/td>\n",
       "      <td>male<\/td>\n",
       "      <td>NaN<\/td>\n",
       "      <td>0<\/td>\n",
       "      <td>0<\/td>\n",
       "      <td>112058<\/td>\n",
       "      <td>0.0000<\/td>\n",
       "      <td>B102<\/td>\n",
       "      <td>S<\/td>\n",
       "    <\/tr>\n",
       "    <tr>\n",
       "      <th>141<\/th>\n",
       "      <td>3<\/td>\n",
       "      <td>Boulos, Mrs. Joseph (Sultana)<\/td>\n",
       "      <td>female<\/td>\n",
       "      <td>NaN<\/td>\n",
       "      <td>0<\/td>\n",
       "      <td>2<\/td>\n",
       "      <td>2678<\/td>\n",
       "      <td>15.2458<\/td>\n",
       "      <td>NaN<\/td>\n",
       "      <td>C<\/td>\n",
       "    <\/tr>\n",
       "  <\/tbody>\n",
       "<\/table>\n",
       "<\/div>"
      ]
     },
     "metadata":{
      
     },
     "output_type":"display_data"
    }
   ],
   "metadata":{
    "datalore":{
     "node_id":"KXm98JZi04Tu4eg9NLmMgC",
     "type":"CODE",
     "hide_input_from_viewers":false,
     "hide_output_from_viewers":false,
     "report_properties":{
      "rowId":"Lx4OtnsAr9hOkFXY7BOV68",
      "relativeY":0
     }
    }
   }
  },
  {
   "cell_type":"code",
   "source":[
    "y.sample(**arguments)"
   ],
   "execution_count":9,
   "outputs":[
    {
     "data":{
      "text\/html":[
       
      ]
     },
     "metadata":{
      
     },
     "output_type":"display_data"
    }
   ],
   "metadata":{
    "datalore":{
     "node_id":"noB8RUWqEyK2A0F9F9mLc3",
     "type":"CODE",
     "hide_input_from_viewers":false,
     "hide_output_from_viewers":false,
     "report_properties":{
      "rowId":"Lx4OtnsAr9hOkFXY7BOV68",
      "relativeY":0
     }
    }
   }
  },
  {
   "cell_type":"code",
   "source":[
    "X_train,X_test,y_train,y_test = sklearn.model_selection.train_test_split(X,y,test_size = 0.3,random_state = 42)"
   ],
   "execution_count":10,
   "outputs":[
    
   ],
   "metadata":{
    "datalore":{
     "node_id":"jW4jEKYukqv8HuZGWaeOJ8",
     "type":"CODE",
     "hide_input_from_viewers":false,
     "hide_output_from_viewers":false,
     "report_properties":{
      "rowId":"Lx4OtnsAr9hOkFXY7BOV68",
      "relativeY":0
     }
    }
   }
  },
  {
   "cell_type":"markdown",
   "source":[
    "# Análisis Exploratorio de Datos"
   ],
   "attachments":{
    
   },
   "metadata":{
    "datalore":{
     "node_id":"xJGyDGtfQyNzKzaoX2XJ9U",
     "type":"MD",
     "hide_input_from_viewers":false,
     "hide_output_from_viewers":false,
     "report_properties":{
      "rowId":"Lx4OtnsAr9hOkFXY7BOV68",
      "relativeY":0
     }
    }
   }
  },
  {
   "cell_type":"markdown",
   "source":[
    "Primero de todo vamos a dropear la columna Nombre porque el nombre de una persona no va a aportar ningún valor útil para decidir si sobrevivió o no al accidente. Utilizando el mismo razonamiento podemos borrar también la variable ticket."
   ],
   "attachments":{
    
   },
   "metadata":{
    "datalore":{
     "node_id":"voFSXAYo3vWnIXeR5M3T4R",
     "type":"MD",
     "hide_input_from_viewers":false,
     "hide_output_from_viewers":false,
     "report_properties":{
      "rowId":"Lx4OtnsAr9hOkFXY7BOV68",
      "relativeY":0
     }
    }
   }
  },
  {
   "cell_type":"code",
   "source":[
    "arguments = {\"labels\": \"Name\", \"axis\": \"columns\"}\n",
    "\n",
    "X_train = X_train.drop(**arguments)\n",
    "X_test = X_test.drop(**arguments)\n",
    "\n",
    "\n",
    "X_train = X_train.drop(\"Ticket\",axis = 1)\n",
    "X_test = X_test.drop(\"Ticket\",axis = 1)\n"
   ],
   "execution_count":11,
   "outputs":[
    
   ],
   "metadata":{
    "datalore":{
     "node_id":"I7wxpwCytYOGzjYvB1fGRt",
     "type":"CODE",
     "hide_input_from_viewers":false,
     "hide_output_from_viewers":false,
     "report_properties":{
      "rowId":"Lx4OtnsAr9hOkFXY7BOV68",
      "relativeY":0
     }
    }
   }
  },
  {
   "cell_type":"code",
   "source":[
    "\n",
    "arguments = {\"include\": \"all\"}\n",
    "\n",
    "X_train.describe(**arguments)"
   ],
   "execution_count":12,
   "outputs":[
    {
     "data":{
      "text\/html":[
       "<div>\n",
       "<style scoped>\n",
       "    .dataframe tbody tr th:only-of-type {\n",
       "        vertical-align: middle;\n",
       "    }\n",
       "\n",
       "    .dataframe tbody tr th {\n",
       "        vertical-align: top;\n",
       "    }\n",
       "\n",
       "    .dataframe thead th {\n",
       "        text-align: right;\n",
       "    }\n",
       "<\/style>\n",
       "<table border=\"1\" class=\"dataframe\">\n",
       "  <thead>\n",
       "    <tr style=\"text-align: right;\">\n",
       "      <th><\/th>\n",
       "      <th>Pclass<\/th>\n",
       "      <th>Sex<\/th>\n",
       "      <th>Age<\/th>\n",
       "      <th>SibSp<\/th>\n",
       "      <th>Parch<\/th>\n",
       "      <th>Fare<\/th>\n",
       "      <th>Cabin<\/th>\n",
       "      <th>Embarked<\/th>\n",
       "    <\/tr>\n",
       "  <\/thead>\n",
       "  <tbody>\n",
       "    <tr>\n",
       "      <th>count<\/th>\n",
       "      <td>623.000000<\/td>\n",
       "      <td>623<\/td>\n",
       "      <td>499.000000<\/td>\n",
       "      <td>623.000000<\/td>\n",
       "      <td>623.000000<\/td>\n",
       "      <td>623.000000<\/td>\n",
       "      <td>139<\/td>\n",
       "      <td>622<\/td>\n",
       "    <\/tr>\n",
       "    <tr>\n",
       "      <th>unique<\/th>\n",
       "      <td>NaN<\/td>\n",
       "      <td>2<\/td>\n",
       "      <td>NaN<\/td>\n",
       "      <td>NaN<\/td>\n",
       "      <td>NaN<\/td>\n",
       "      <td>NaN<\/td>\n",
       "      <td>106<\/td>\n",
       "      <td>3<\/td>\n",
       "    <\/tr>\n",
       "    <tr>\n",
       "      <th>top<\/th>\n",
       "      <td>NaN<\/td>\n",
       "      <td>male<\/td>\n",
       "      <td>NaN<\/td>\n",
       "      <td>NaN<\/td>\n",
       "      <td>NaN<\/td>\n",
       "      <td>NaN<\/td>\n",
       "      <td>C23 C25 C27<\/td>\n",
       "      <td>S<\/td>\n",
       "    <\/tr>\n",
       "    <tr>\n",
       "      <th>freq<\/th>\n",
       "      <td>NaN<\/td>\n",
       "      <td>410<\/td>\n",
       "      <td>NaN<\/td>\n",
       "      <td>NaN<\/td>\n",
       "      <td>NaN<\/td>\n",
       "      <td>NaN<\/td>\n",
       "      <td>4<\/td>\n",
       "      <td>457<\/td>\n",
       "    <\/tr>\n",
       "    <tr>\n",
       "      <th>mean<\/th>\n",
       "      <td>2.341894<\/td>\n",
       "      <td>NaN<\/td>\n",
       "      <td>29.256353<\/td>\n",
       "      <td>0.576244<\/td>\n",
       "      <td>0.386838<\/td>\n",
       "      <td>31.840730<\/td>\n",
       "      <td>NaN<\/td>\n",
       "      <td>NaN<\/td>\n",
       "    <\/tr>\n",
       "    <tr>\n",
       "      <th>std<\/th>\n",
       "      <td>0.819945<\/td>\n",
       "      <td>NaN<\/td>\n",
       "      <td>14.558567<\/td>\n",
       "      <td>1.216267<\/td>\n",
       "      <td>0.807692<\/td>\n",
       "      <td>51.027372<\/td>\n",
       "      <td>NaN<\/td>\n",
       "      <td>NaN<\/td>\n",
       "    <\/tr>\n",
       "    <tr>\n",
       "      <th>min<\/th>\n",
       "      <td>1.000000<\/td>\n",
       "      <td>NaN<\/td>\n",
       "      <td>0.420000<\/td>\n",
       "      <td>0.000000<\/td>\n",
       "      <td>0.000000<\/td>\n",
       "      <td>0.000000<\/td>\n",
       "      <td>NaN<\/td>\n",
       "      <td>NaN<\/td>\n",
       "    <\/tr>\n",
       "    <tr>\n",
       "      <th>25%<\/th>\n",
       "      <td>2.000000<\/td>\n",
       "      <td>NaN<\/td>\n",
       "      <td>20.000000<\/td>\n",
       "      <td>0.000000<\/td>\n",
       "      <td>0.000000<\/td>\n",
       "      <td>7.925000<\/td>\n",
       "      <td>NaN<\/td>\n",
       "      <td>NaN<\/td>\n",
       "    <\/tr>\n",
       "    <tr>\n",
       "      <th>50%<\/th>\n",
       "      <td>3.000000<\/td>\n",
       "      <td>NaN<\/td>\n",
       "      <td>28.000000<\/td>\n",
       "      <td>0.000000<\/td>\n",
       "      <td>0.000000<\/td>\n",
       "      <td>14.454200<\/td>\n",
       "      <td>NaN<\/td>\n",
       "      <td>NaN<\/td>\n",
       "    <\/tr>\n",
       "    <tr>\n",
       "      <th>75%<\/th>\n",
       "      <td>3.000000<\/td>\n",
       "      <td>NaN<\/td>\n",
       "      <td>38.000000<\/td>\n",
       "      <td>1.000000<\/td>\n",
       "      <td>0.000000<\/td>\n",
       "      <td>30.750000<\/td>\n",
       "      <td>NaN<\/td>\n",
       "      <td>NaN<\/td>\n",
       "    <\/tr>\n",
       "    <tr>\n",
       "      <th>max<\/th>\n",
       "      <td>3.000000<\/td>\n",
       "      <td>NaN<\/td>\n",
       "      <td>80.000000<\/td>\n",
       "      <td>8.000000<\/td>\n",
       "      <td>6.000000<\/td>\n",
       "      <td>512.329200<\/td>\n",
       "      <td>NaN<\/td>\n",
       "      <td>NaN<\/td>\n",
       "    <\/tr>\n",
       "  <\/tbody>\n",
       "<\/table>\n",
       "<\/div>"
      ]
     },
     "metadata":{
      
     },
     "output_type":"display_data"
    }
   ],
   "metadata":{
    "datalore":{
     "node_id":"FOVk8lNSPilQrj2VD10oYr",
     "type":"CODE",
     "hide_input_from_viewers":false,
     "hide_output_from_viewers":false,
     "report_properties":{
      "rowId":"Lx4OtnsAr9hOkFXY7BOV68",
      "relativeY":0
     }
    }
   }
  },
  {
   "cell_type":"markdown",
   "source":[
    "Con el describe podemos sacar conclusiones, como que las columnas \"Age\", \"Embarked\" y \"Cabin\" contienen valores nulos que tendremos que tratar, que ticket tiene muchos valores únicos entonces la información que nos aporta puede ser similar a la de \"Name\" y puede que tengamos que dropearla más adelante o clasificarla de otra forma (tipo de ticket).\n",
    "\n",
    "Tambien los apartados de min max y los que hay entre medias nos aportan información como por ejemplo que a pesar de que el Fare máximo sea 512, la gran mayoría de casos son menores de 30"
   ],
   "attachments":{
    
   },
   "metadata":{
    "datalore":{
     "node_id":"A0lOUbPfc2g4BkZwxuRgJD",
     "type":"MD",
     "hide_input_from_viewers":false,
     "hide_output_from_viewers":false,
     "report_properties":{
      "rowId":"Lx4OtnsAr9hOkFXY7BOV68",
      "relativeY":0
     }
    }
   }
  },
  {
   "cell_type":"code",
   "source":[
    "X_train.isnull().sum()\n",
    "sns.heatmap(X_train.isnull(), cbar = False).set_title(\"Missing values heatmap\")"
   ],
   "execution_count":13,
   "outputs":[
    {
     "data":{
      "text\/plain":[
       "Text(0.5, 1.0, 'Missing values heatmap')"
      ]
     },
     "metadata":{
      
     },
     "output_type":"display_data"
    },
    {
     "data":{
      "image\/png":"[encoded data removed]"
     },
     "metadata":{
      "image\/png":{
       
      }
     },
     "output_type":"display_data"
    }
   ],
   "metadata":{
    "datalore":{
     "node_id":"1NdLWbM329IXJ0Z4zWwNPK",
     "type":"CODE",
     "hide_input_from_viewers":false,
     "hide_output_from_viewers":false,
     "report_properties":{
      "rowId":"Lx4OtnsAr9hOkFXY7BOV68",
      "relativeY":0
     }
    }
   }
  },
  {
   "cell_type":"markdown",
   "source":[
    "Este mapa gráfico representa los NaN que hay en el conjunto de entrenamiento. Como podemos ver solo hay NaN en las variables 'Age','Cabin' y uno solo en 'Embarked'. Estas serán las variables en las que tendremos que tratarlos."
   ],
   "attachments":{
    
   },
   "metadata":{
    "datalore":{
     "node_id":"9BZsKj9ZxYaj3sVeMe1SHl",
     "type":"MD",
     "hide_input_from_viewers":false,
     "hide_output_from_viewers":false,
     "report_properties":{
      "rowId":"Lx4OtnsAr9hOkFXY7BOV68",
      "relativeY":0
     }
    }
   }
  },
  {
   "cell_type":"code",
   "source":[
    "men = train[train['Sex'] == 'male']\n",
    "women = train[train['Sex'] == 'female']\n",
    "\n",
    "\n",
    "survived = 'survived'\n",
    "not_survived = 'not survived'\n",
    "fig, axes = plt.subplots(nrows=1, ncols=2,figsize=(10, 4))\n",
    "ax = sns.distplot(women[women['Survived']==\"1\"].Age.dropna(), bins=18, label = survived, ax = axes[0], kde =False)\n",
    "ax = sns.distplot(women[women['Survived']==\"0\"].Age.dropna(), bins=40, label = not_survived, ax = axes[0], kde =False)\n",
    "ax.legend()\n",
    "ax.set_title('Female')\n",
    "ax = sns.distplot(men[men['Survived']==\"1\"].Age.dropna(), bins=18, label = survived, ax = axes[1], kde = False)\n",
    "ax = sns.distplot(men[men['Survived']==\"0\"].Age.dropna(), bins=40, label = not_survived, ax = axes[1], kde = False)\n",
    "ax.legend()\n",
    "ax.set_title('Male')"
   ],
   "execution_count":14,
   "outputs":[
    {
     "name":"stderr",
     "text":[
      "\/opt\/python\/envs\/default\/lib\/python3.8\/site-packages\/seaborn\/distributions.py:2619: FutureWarning: `distplot` is a deprecated function and will be removed in a future version. Please adapt your code to use either `displot` (a figure-level function with similar flexibility) or `histplot` (an axes-level function for histograms).\n",
      "  warnings.warn(msg, FutureWarning)\n"
     ],
     "output_type":"stream"
    },
    {
     "data":{
      "text\/plain":[
       "Text(0.5, 1.0, 'Male')"
      ]
     },
     "metadata":{
      
     },
     "output_type":"display_data"
    },
    {
     "data":{
      "image\/png":"[encoded data removed]"
     },
     "metadata":{
      "image\/png":{
       
      }
     },
     "output_type":"display_data"
    }
   ],
   "metadata":{
    "datalore":{
     "node_id":"g5AKM4h09AfuwsjAl7Q5F6",
     "type":"CODE",
     "hide_input_from_viewers":false,
     "hide_output_from_viewers":false,
     "report_properties":{
      "rowId":"Lx4OtnsAr9hOkFXY7BOV68",
      "relativeY":0
     }
    }
   }
  },
  {
   "cell_type":"markdown",
   "source":[
    "Hemos probado muchas variables para la matriz de confusión, pero al ser la mayoría categóricas no aportan mucha información salvo las variables 'Age' y 'Fare'"
   ],
   "attachments":{
    
   },
   "metadata":{
    "datalore":{
     "node_id":"7bokKDx98wP0WakYUKTGWY",
     "type":"MD",
     "hide_input_from_viewers":false,
     "hide_output_from_viewers":false,
     "report_properties":{
      "rowId":"Lx4OtnsAr9hOkFXY7BOV68",
      "relativeY":0
     }
    }
   }
  },
  {
   "cell_type":"code",
   "source":[
    "arguments = {\"data_frame\": train.filter([\"Fare\",\"Age\",target]), \"dimensions\": train.filter([\"Fare\",\"Age\"]), \"color\": target}\n",
    "px.scatter_matrix(**arguments)"
   ],
   "execution_count":15,
   "outputs":[
    {
     "data":{
      "application\/vnd.plotly.v1+json":{
       "data":[
        {
         "dimensions":[
          {
           "axis":{
            "matches":true
           },
           "label":"Fare",
           "values":[
            7.25,
            8.05,
            8.4583,
            51.8625,
            21.075,
            8.05,
            31.275,
            7.8542,
            29.125,
            18,
            26,
            21.075,
            7.225,
            263,
            7.8958,
            27.7208,
            10.5,
            82.1708,
            52,
            8.05,
            18,
            9.475,
            21,
            7.8958,
            8.05,
            15.5,
            21.6792,
            17.8,
            39.6875,
            7.8,
            61.9792,
            7.2292,
            46.9,
            7.2292,
            83.475,
            27.9,
            27.7208,
            8.1583,
            8.6625,
            10.5,
            46.9,
            73.5,
            14.4542,
            7.65,
            7.8958,
            8.05,
            9,
            47.1,
            34.375,
            8.05,
            8.05,
            8.05,
            7.8542,
            61.175,
            20.575,
            7.25,
            8.05,
            34.6542,
            26,
            7.8958,
            7.8958,
            77.2875,
            8.6542,
            7.925,
            7.8958,
            7.8958,
            52,
            14.4542,
            8.05,
            9.825,
            14.4583,
            7.925,
            7.75,
            21,
            247.5208,
            31.275,
            73.5,
            8.05,
            30.0708,
            77.2875,
            7.75,
            6.975,
            7.8958,
            7.05,
            14.5,
            13,
            15.0458,
            53.1,
            9.2167,
            79.2,
            15.2458,
            6.75,
            11.5,
            36.75,
            34.375,
            26,
            13,
            12.525,
            8.05,
            14.5,
            7.3125,
            61.3792,
            8.05,
            8.6625,
            69.55,
            16.1,
            7.775,
            8.6625,
            39.6875,
            27.9,
            25.925,
            56.4958,
            33.5,
            29.125,
            7.925,
            30.6958,
            7.8542,
            25.4667,
            28.7125,
            13,
            0,
            69.55,
            15.05,
            31.3875,
            50,
            15.5,
            7.8958,
            13,
            7.75,
            8.4042,
            13,
            9.5,
            69.55,
            6.4958,
            7.225,
            10.4625,
            15.85,
            7.05,
            7.25,
            13,
            7.75,
            27,
            10.5,
            13,
            8.05,
            7.8958,
            9.35,
            7.25,
            13,
            25.4667,
            7.775,
            13.5,
            10.5,
            7.55,
            26,
            10.5,
            12.275,
            14.4542,
            10.5,
            7.125,
            7.225,
            90,
            7.775,
            26,
            7.25,
            10.4625,
            26.55,
            16.1,
            20.2125,
            7.75,
            79.65,
            0,
            7.75,
            10.5,
            39.6875,
            31,
            29.7,
            7.75,
            0,
            29.125,
            7.75,
            7.8542,
            9.5,
            26,
            8.6625,
            7.8958,
            12.875,
            8.85,
            7.8958,
            27.7208,
            7.2292,
            151.55,
            0,
            8.05,
            24,
            26,
            7.8958,
            26.25,
            14,
            7.25,
            7.8958,
            69.55,
            6.2375,
            28.5,
            153.4625,
            18,
            7.8958,
            66.6,
            35.5,
            13,
            13,
            13,
            8.6625,
            9.225,
            35,
            7.2292,
            17.8,
            7.225,
            9.5,
            13,
            27.9,
            27.7208,
            14.4542,
            7.05,
            15.5,
            7.25,
            6.4958,
            8.05,
            135.6333,
            21.075,
            211.5,
            4.0125,
            7.775,
            7.925,
            7.8958,
            73.5,
            46.9,
            7.7292,
            7.925,
            7.7958,
            7.8542,
            26,
            10.5,
            8.05,
            9.825,
            15.85,
            8.6625,
            21,
            7.75,
            7.775,
            25.4667,
            7.8958,
            6.8583,
            0,
            8.05,
            13,
            24.15,
            7.8958,
            7.7333,
            7.875,
            14.4,
            20.2125,
            7.25,
            7.75,
            7.125,
            55.9,
            34.375,
            263,
            10.5,
            9.5,
            7.775,
            27.75,
            19.9667,
            27.75,
            8.05,
            26.55,
            7.75,
            8.05,
            38.5,
            13,
            8.05,
            7.05,
            0,
            26.55,
            7.725,
            7.25,
            8.6625,
            9.8375,
            52,
            21,
            7.0458,
            7.5208,
            46.9,
            0,
            8.05,
            25.4667,
            29.7,
            8.05,
            19.9667,
            7.25,
            30.5,
            49.5042,
            8.05,
            14.4583,
            15.1,
            151.55,
            7.7958,
            8.6625,
            7.75,
            7.6292,
            9.5875,
            108.9,
            22.525,
            8.05,
            7.4958,
            34.0208,
            24.15,
            7.8958,
            7.8958,
            7.225,
            7.2292,
            7.75,
            221.7792,
            7.925,
            11.5,
            7.2292,
            7.2292,
            8.6625,
            26.55,
            14.5,
            31.275,
            31.275,
            106.425,
            26,
            20.525,
            26,
            7.8292,
            26.55,
            227.525,
            7.75,
            7.8958,
            13.5,
            8.05,
            8.05,
            24.15,
            7.8958,
            21.075,
            7.2292,
            8.05,
            14.5,
            14.4583,
            26,
            40.125,
            8.7125,
            15,
            8.05,
            8.05,
            7.125,
            7.25,
            7.75,
            26,
            24.15,
            0,
            7.225,
            7.8958,
            42.4,
            8.05,
            15.55,
            7.8958,
            31.275,
            7.05,
            7.75,
            8.05,
            14.4,
            16.1,
            10.5,
            14.4542,
            7.8542,
            16.1,
            32.3208,
            12.35,
            7.8958,
            7.7333,
            7.0542,
            0,
            27.9,
            7.925,
            26.25,
            39.6875,
            16.1,
            7.8542,
            27.9,
            7.8958,
            7.55,
            7.8958,
            8.4333,
            6.75,
            73.5,
            7.8958,
            15.5,
            13,
            113.275,
            7.225,
            25.5875,
            7.4958,
            73.5,
            13,
            7.775,
            8.05,
            52,
            10.5,
            0,
            7.775,
            8.05,
            46.9,
            8.1375,
            9.225,
            46.9,
            39,
            41.5792,
            39.6875,
            10.1708,
            7.7958,
            7.225,
            26.55,
            13.5,
            8.05,
            110.8833,
            7.65,
            14.4542,
            7.7417,
            7.8542,
            26,
            26.55,
            9.4833,
            13,
            7.65,
            15.5,
            7.775,
            7.0542,
            13,
            13,
            8.6625,
            26,
            7.925,
            18.7875,
            0,
            13,
            13,
            16.1,
            34.375,
            7.8958,
            7.8958,
            78.85,
            16.1,
            71,
            20.25,
            53.1,
            7.75,
            9.5,
            7.8958,
            7.7958,
            11.5,
            8.05,
            14.5,
            7.125,
            7.775,
            39.6,
            7.75,
            24.15,
            8.3625,
            9.5,
            7.8542,
            10.5,
            7.225,
            7.75,
            7.75,
            7.7375,
            30,
            23.45,
            7.05,
            7.25,
            29.125,
            79.2,
            7.75,
            26,
            69.55,
            30.6958,
            7.8958,
            13,
            7.2292,
            24.15,
            13,
            7.775,
            0,
            7.775,
            13,
            7.8875,
            24.15,
            10.5,
            31.275,
            8.05,
            0,
            7.925,
            37.0042,
            6.45,
            27.9,
            0,
            39.6875,
            6.95,
            56.4958,
            7.2292,
            7.8542,
            8.3,
            8.6625,
            8.05,
            7.925,
            10.5,
            6.4375,
            8.6625,
            7.55,
            69.55,
            7.8958,
            33,
            31.275,
            7.775,
            15.2458,
            26,
            7.2292,
            14.1083,
            11.5,
            69.55,
            13,
            50.4958,
            9.5,
            7.8958,
            5,
            9,
            9.8458,
            7.8958,
            7.8958,
            7.8958,
            10.5167,
            10.5,
            7.05,
            29.125,
            13,
            23.45,
            7.75
           ]
          },
          {
           "axis":{
            "matches":true
           },
           "label":"Age",
           "values":[
            22,
            35,
            null,
            54,
            2,
            20,
            39,
            14,
            2,
            31,
            35,
            8,
            null,
            19,
            null,
            40,
            66,
            28,
            42,
            21,
            18,
            40,
            27,
            null,
            null,
            null,
            null,
            18,
            7,
            21,
            65,
            28.5,
            11,
            22,
            45,
            4,
            null,
            19,
            26,
            32,
            16,
            21,
            26,
            25,
            null,
            null,
            22,
            28,
            16,
            null,
            24,
            29,
            20,
            46,
            26,
            59,
            null,
            71,
            34,
            28,
            null,
            21,
            33,
            37,
            28,
            38,
            47,
            14.5,
            22,
            20,
            17,
            21,
            70.5,
            29,
            24,
            2,
            21,
            null,
            32.5,
            54,
            null,
            45,
            33,
            20,
            47,
            25,
            23,
            37,
            16,
            24,
            null,
            19,
            18,
            19,
            9,
            36.5,
            42,
            51,
            55.5,
            40.5,
            null,
            51,
            30,
            null,
            null,
            44,
            26,
            17,
            1,
            45,
            null,
            28,
            61,
            4,
            21,
            56,
            18,
            null,
            50,
            30,
            36,
            null,
            null,
            9,
            null,
            40,
            36,
            19,
            null,
            42,
            24,
            28,
            null,
            34,
            45.5,
            2,
            32,
            24,
            22,
            30,
            null,
            42,
            30,
            27,
            51,
            null,
            22,
            20.5,
            18,
            null,
            29,
            59,
            24,
            null,
            44,
            19,
            33,
            null,
            29,
            22,
            30,
            44,
            25,
            54,
            null,
            29,
            62,
            30,
            41,
            null,
            52,
            40,
            null,
            36,
            16,
            null,
            37,
            45,
            null,
            7,
            65,
            28,
            16,
            null,
            33,
            22,
            36,
            24,
            24,
            null,
            23.5,
            2,
            19,
            null,
            30,
            26,
            28,
            43,
            54,
            22,
            27,
            null,
            61,
            45.5,
            38,
            16,
            null,
            29,
            45,
            28,
            25,
            36,
            42,
            23,
            null,
            15,
            25,
            null,
            28,
            38,
            40,
            29,
            45,
            35,
            null,
            30,
            18,
            19,
            22,
            3,
            27,
            20,
            19,
            32,
            null,
            18,
            1,
            null,
            28,
            22,
            31,
            46,
            23,
            26,
            21,
            28,
            20,
            34,
            51,
            21,
            null,
            null,
            null,
            null,
            null,
            30,
            10,
            null,
            21,
            29,
            28,
            18,
            null,
            null,
            17,
            50,
            21,
            64,
            31,
            20,
            25,
            36,
            null,
            30,
            null,
            65,
            null,
            34,
            47,
            48,
            null,
            38,
            null,
            56,
            null,
            null,
            38,
            22,
            null,
            34,
            29,
            22,
            9,
            null,
            50,
            null,
            58,
            30,
            null,
            21,
            55,
            71,
            21,
            null,
            null,
            25,
            24,
            17,
            21,
            null,
            37,
            18,
            28,
            null,
            24,
            47,
            null,
            32,
            22,
            null,
            null,
            40.5,
            null,
            39,
            23,
            null,
            17,
            30,
            45,
            null,
            9,
            11,
            50,
            64,
            33,
            27,
            null,
            62,
            null,
            null,
            40,
            28,
            null,
            null,
            24,
            19,
            29,
            null,
            16,
            19,
            null,
            54,
            36,
            null,
            47,
            22,
            null,
            35,
            47,
            null,
            37,
            36,
            49,
            null,
            null,
            null,
            44,
            36,
            30,
            39,
            null,
            null,
            35,
            34,
            26,
            26,
            27,
            21,
            21,
            61,
            57,
            26,
            null,
            51,
            null,
            9,
            32,
            31,
            41,
            null,
            20,
            2,
            19,
            null,
            null,
            21,
            18,
            24,
            null,
            32,
            23,
            58,
            40,
            47,
            36,
            32,
            25,
            null,
            43,
            31,
            70,
            null,
            18,
            24.5,
            43,
            null,
            20,
            14,
            60,
            25,
            14,
            19,
            18,
            25,
            60,
            52,
            44,
            49,
            42,
            18,
            25,
            26,
            39,
            null,
            29,
            52,
            19,
            null,
            33,
            17,
            34,
            50,
            20,
            25,
            25,
            11,
            null,
            23,
            23,
            28.5,
            48,
            null,
            null,
            36,
            24,
            70,
            16,
            19,
            31,
            33,
            23,
            28,
            18,
            34,
            null,
            41,
            16,
            null,
            30.5,
            null,
            32,
            24,
            48,
            57,
            null,
            18,
            null,
            null,
            29,
            null,
            25,
            25,
            8,
            46,
            null,
            16,
            null,
            null,
            25,
            39,
            30,
            30,
            34,
            31,
            39,
            18,
            39,
            26,
            39,
            35,
            6,
            30.5,
            null,
            23,
            31,
            43,
            10,
            38,
            2,
            null,
            null,
            null,
            23,
            18,
            21,
            null,
            20,
            16,
            34.5,
            17,
            42,
            null,
            35,
            28,
            4,
            74,
            9,
            44,
            null,
            41,
            21,
            null,
            24,
            31,
            null,
            26,
            33,
            47,
            20,
            19,
            null,
            33,
            22,
            28,
            25,
            39,
            27,
            null,
            32
           ]
          }
         ],
         "hovertemplate":"Survived=0<br>%{xaxis.title.text}=%{x}<br>%{yaxis.title.text}=%{y}<extra><\/extra>",
         "legendgroup":"0",
         "marker":{
          "color":"#636efa",
          "symbol":"circle"
         },
         "name":"0",
         "showlegend":true,
         "type":"splom"
        },
        {
         "dimensions":[
          {
           "axis":{
            "matches":true
           },
           "label":"Fare",
           "values":[
            71.2833,
            7.925,
            53.1,
            11.1333,
            30.0708,
            16.7,
            26.55,
            16,
            13,
            7.225,
            13,
            8.0292,
            35.5,
            31.3875,
            7.8792,
            146.5208,
            7.75,
            7.2292,
            11.2417,
            41.5792,
            7.8792,
            7.75,
            76.7292,
            26,
            35.5,
            10.5,
            27.75,
            80,
            15.2458,
            10.5,
            7.925,
            56.4958,
            29,
            12.475,
            9.5,
            7.7875,
            10.5,
            15.85,
            263,
            63.3583,
            23,
            7.65,
            7.775,
            24.15,
            13,
            11.2417,
            7.1417,
            22.3583,
            26,
            26.2833,
            7.75,
            15.85,
            7.7958,
            66.6,
            7.7333,
            15.75,
            20.525,
            55,
            11.1333,
            39,
            22.025,
            15.5,
            26.55,
            13,
            7.8542,
            26,
            27.7208,
            146.5208,
            7.75,
            8.05,
            18.7875,
            7.75,
            31,
            21,
            113.275,
            7.925,
            76.2917,
            8.05,
            90,
            10.5,
            83.475,
            31.3875,
            26.25,
            15.5,
            14.5,
            52.5542,
            15.2458,
            79.2,
            86.5,
            512.3292,
            26,
            31.3875,
            7.775,
            153.4625,
            135.6333,
            0,
            19.5,
            7.75,
            77.9583,
            20.25,
            8.05,
            9.5,
            13,
            7.75,
            78.85,
            91.0792,
            30.5,
            247.5208,
            7.75,
            23.25,
            12.35,
            151.55,
            110.8833,
            108.9,
            56.9292,
            83.1583,
            262.375,
            7.8542,
            26,
            164.8667,
            134.5,
            12.35,
            29,
            135.6333,
            13,
            20.525,
            57.9792,
            23.25,
            133.65,
            134.5,
            8.05,
            26,
            263,
            13,
            13,
            16.1,
            15.9,
            55,
            7.8792,
            7.8792,
            75.25,
            7.2292,
            7.75,
            69.3,
            55.4417,
            82.1708,
            7.25,
            227.525,
            15.7417,
            52,
            13,
            12,
            120,
            7.7958,
            113.275,
            16.7,
            12.65,
            7.925,
            18.75,
            90,
            7.925,
            32.5,
            13,
            26,
            26,
            8.05,
            26.55,
            16.1,
            26,
            120,
            18.75,
            26.25,
            13,
            8.1125,
            81.8583,
            19.5,
            26.55,
            19.2583,
            30.5,
            89.1042,
            7.8958,
            51.8625,
            10.5,
            26.55,
            19.2583,
            27.75,
            13.7917,
            12.2875,
            9.5875,
            91.0792,
            90,
            15.9,
            78.2667,
            86.5,
            26,
            26.55,
            56.4958,
            7.75,
            26.2875,
            59.4,
            10.5,
            26,
            93.5,
            57.9792,
            10.5,
            26,
            22.3583,
            26.25,
            106.425,
            49.5,
            71,
            26,
            26,
            13.8625,
            36.75,
            110.8833,
            7.225,
            7.775,
            39.6,
            79.65,
            17.4,
            7.8542,
            10.5,
            51.4792,
            26.3875,
            7.75,
            13,
            55.9,
            7.925,
            30,
            110.8833,
            79.65,
            79.2,
            78.2667,
            33,
            56.9292,
            27,
            26.55,
            30.5,
            41.5792,
            153.4625,
            15.5,
            65,
            39,
            52.5542,
            15.7417,
            77.9583,
            30,
            30.5,
            13,
            69.3,
            56.4958,
            19.2583,
            76.7292,
            35.5,
            7.55,
            23,
            7.8292,
            133.65,
            7.925,
            52,
            39,
            13,
            9.8417,
            512.3292,
            76.7292,
            211.3375,
            57,
            13.4167,
            56.4958,
            7.7333,
            227.525,
            26.2875,
            13.5,
            26.2875,
            151.55,
            15.2458,
            49.5042,
            52,
            227.525,
            10.5,
            33,
            53.1,
            21,
            7.7375,
            211.3375,
            512.3292,
            30,
            262.375,
            7.925,
            13,
            23,
            12.475,
            65,
            14.5,
            86.5,
            7.2292,
            120,
            77.9583,
            23,
            12.475,
            211.3375,
            7.2292,
            57,
            7.4958,
            20.575,
            25.9292,
            8.6833,
            26.25,
            120,
            8.5167,
            6.975,
            53.1,
            93.5,
            8.6625,
            12.475,
            37.0042,
            7.75,
            80,
            14.4542,
            18.75,
            83.1583,
            56.4958,
            29.7,
            31,
            89.1042,
            39.4,
            9.35,
            164.8667,
            26.55,
            19.2583,
            25.9292,
            13,
            13.8583,
            11.1333,
            52.5542,
            24,
            7.225,
            83.1583,
            26,
            30,
            30
           ]
          },
          {
           "axis":{
            "matches":true
           },
           "label":"Age",
           "values":[
            38,
            26,
            35,
            27,
            14,
            4,
            58,
            55,
            null,
            null,
            34,
            15,
            28,
            38,
            null,
            null,
            null,
            null,
            14,
            3,
            19,
            null,
            49,
            29,
            null,
            21,
            5,
            38,
            null,
            29,
            17,
            32,
            0.83,
            30,
            29,
            null,
            17,
            33,
            23,
            23,
            34,
            21,
            null,
            null,
            32.5,
            12,
            24,
            null,
            29,
            19,
            22,
            24,
            27,
            22,
            16,
            40,
            9,
            null,
            1,
            1,
            4,
            null,
            45,
            32,
            19,
            3,
            44,
            58,
            null,
            18,
            26,
            16,
            40,
            35,
            31,
            27,
            32,
            16,
            38,
            19,
            35,
            5,
            8,
            null,
            24,
            37,
            29,
            null,
            30,
            35,
            50,
            3,
            25,
            58,
            35,
            25,
            41,
            null,
            63,
            35,
            19,
            30,
            42,
            22,
            26,
            19,
            null,
            50,
            null,
            null,
            null,
            0.92,
            null,
            17,
            30,
            24,
            18,
            26,
            24,
            31,
            40,
            30,
            22,
            36,
            36,
            31,
            16,
            null,
            null,
            41,
            45,
            2,
            24,
            24,
            40,
            null,
            3,
            22,
            null,
            null,
            60,
            null,
            null,
            24,
            25,
            null,
            22,
            42,
            1,
            35,
            36,
            17,
            36,
            21,
            23,
            24,
            28,
            39,
            3,
            33,
            44,
            34,
            18,
            28,
            19,
            32,
            28,
            null,
            42,
            14,
            24,
            45,
            28,
            null,
            4,
            13,
            34,
            5,
            52,
            49,
            29,
            null,
            50,
            48,
            0.75,
            33,
            23,
            2,
            63,
            25,
            35,
            9,
            54,
            16,
            33,
            null,
            26,
            29,
            36,
            54,
            34,
            36,
            30,
            44,
            50,
            2,
            null,
            7,
            30,
            22,
            36,
            32,
            19,
            null,
            8,
            17,
            22,
            22,
            48,
            39,
            36,
            32,
            62,
            53,
            36,
            null,
            34,
            39,
            32,
            25,
            39,
            18,
            60,
            52,
            null,
            49,
            24,
            35,
            27,
            22,
            40,
            null,
            24,
            4,
            42,
            20,
            21,
            80,
            32,
            28,
            24,
            null,
            0.75,
            48,
            56,
            23,
            18,
            null,
            50,
            20,
            null,
            40,
            31,
            18,
            36,
            27,
            15,
            31,
            4,
            null,
            null,
            18,
            35,
            45,
            42,
            22,
            null,
            24,
            48,
            38,
            27,
            6,
            27,
            30,
            null,
            29,
            35,
            null,
            21,
            31,
            30,
            4,
            6,
            48,
            0.67,
            33,
            20,
            36,
            51,
            54,
            5,
            43,
            13,
            17,
            18,
            1,
            49,
            31,
            31,
            11,
            0.42,
            27,
            33,
            52,
            27,
            27,
            1,
            null,
            62,
            15,
            0.83,
            39,
            32,
            null,
            30,
            null,
            16,
            18,
            45,
            51,
            24,
            48,
            42,
            27,
            4,
            47,
            28,
            15,
            56,
            25,
            19,
            26
           ]
          }
         ],
         "hovertemplate":"Survived=1<br>%{xaxis.title.text}=%{x}<br>%{yaxis.title.text}=%{y}<extra><\/extra>",
         "legendgroup":"1",
         "marker":{
          "color":"#EF553B",
          "symbol":"circle"
         },
         "name":"1",
         "showlegend":true,
         "type":"splom"
        }
       ],
       "layout":{
        "template":{
         "data":{
          "bar":[
           {
            "error_x":{
             "color":"#2a3f5f"
            },
            "error_y":{
             "color":"#2a3f5f"
            },
            "marker":{
             "line":{
              "color":"#E5ECF6",
              "width":0.5
             },
             "pattern":{
              "fillmode":"overlay",
              "size":10,
              "solidity":0.2
             }
            },
            "type":"bar"
           }
          ],
          "barpolar":[
           {
            "marker":{
             "line":{
              "color":"#E5ECF6",
              "width":0.5
             },
             "pattern":{
              "fillmode":"overlay",
              "size":10,
              "solidity":0.2
             }
            },
            "type":"barpolar"
           }
          ],
          "carpet":[
           {
            "aaxis":{
             "endlinecolor":"#2a3f5f",
             "gridcolor":"white",
             "linecolor":"white",
             "minorgridcolor":"white",
             "startlinecolor":"#2a3f5f"
            },
            "baxis":{
             "endlinecolor":"#2a3f5f",
             "gridcolor":"white",
             "linecolor":"white",
             "minorgridcolor":"white",
             "startlinecolor":"#2a3f5f"
            },
            "type":"carpet"
           }
          ],
          "choropleth":[
           {
            "colorbar":{
             "outlinewidth":0,
             "ticks":""
            },
            "type":"choropleth"
           }
          ],
          "contour":[
           {
            "colorbar":{
             "outlinewidth":0,
             "ticks":""
            },
            "colorscale":[
             [
              0,
              "#0d0887"
             ],
             [
              0.1111111111111111,
              "#46039f"
             ],
             [
              0.2222222222222222,
              "#7201a8"
             ],
             [
              0.3333333333333333,
              "#9c179e"
             ],
             [
              0.4444444444444444,
              "#bd3786"
             ],
             [
              0.5555555555555556,
              "#d8576b"
             ],
             [
              0.6666666666666666,
              "#ed7953"
             ],
             [
              0.7777777777777778,
              "#fb9f3a"
             ],
             [
              0.8888888888888888,
              "#fdca26"
             ],
             [
              1,
              "#f0f921"
             ]
            ],
            "type":"contour"
           }
          ],
          "contourcarpet":[
           {
            "colorbar":{
             "outlinewidth":0,
             "ticks":""
            },
            "type":"contourcarpet"
           }
          ],
          "heatmap":[
           {
            "colorbar":{
             "outlinewidth":0,
             "ticks":""
            },
            "colorscale":[
             [
              0,
              "#0d0887"
             ],
             [
              0.1111111111111111,
              "#46039f"
             ],
             [
              0.2222222222222222,
              "#7201a8"
             ],
             [
              0.3333333333333333,
              "#9c179e"
             ],
             [
              0.4444444444444444,
              "#bd3786"
             ],
             [
              0.5555555555555556,
              "#d8576b"
             ],
             [
              0.6666666666666666,
              "#ed7953"
             ],
             [
              0.7777777777777778,
              "#fb9f3a"
             ],
             [
              0.8888888888888888,
              "#fdca26"
             ],
             [
              1,
              "#f0f921"
             ]
            ],
            "type":"heatmap"
           }
          ],
          "heatmapgl":[
           {
            "colorbar":{
             "outlinewidth":0,
             "ticks":""
            },
            "colorscale":[
             [
              0,
              "#0d0887"
             ],
             [
              0.1111111111111111,
              "#46039f"
             ],
             [
              0.2222222222222222,
              "#7201a8"
             ],
             [
              0.3333333333333333,
              "#9c179e"
             ],
             [
              0.4444444444444444,
              "#bd3786"
             ],
             [
              0.5555555555555556,
              "#d8576b"
             ],
             [
              0.6666666666666666,
              "#ed7953"
             ],
             [
              0.7777777777777778,
              "#fb9f3a"
             ],
             [
              0.8888888888888888,
              "#fdca26"
             ],
             [
              1,
              "#f0f921"
             ]
            ],
            "type":"heatmapgl"
           }
          ],
          "histogram":[
           {
            "marker":{
             "pattern":{
              "fillmode":"overlay",
              "size":10,
              "solidity":0.2
             }
            },
            "type":"histogram"
           }
          ],
          "histogram2d":[
           {
            "colorbar":{
             "outlinewidth":0,
             "ticks":""
            },
            "colorscale":[
             [
              0,
              "#0d0887"
             ],
             [
              0.1111111111111111,
              "#46039f"
             ],
             [
              0.2222222222222222,
              "#7201a8"
             ],
             [
              0.3333333333333333,
              "#9c179e"
             ],
             [
              0.4444444444444444,
              "#bd3786"
             ],
             [
              0.5555555555555556,
              "#d8576b"
             ],
             [
              0.6666666666666666,
              "#ed7953"
             ],
             [
              0.7777777777777778,
              "#fb9f3a"
             ],
             [
              0.8888888888888888,
              "#fdca26"
             ],
             [
              1,
              "#f0f921"
             ]
            ],
            "type":"histogram2d"
           }
          ],
          "histogram2dcontour":[
           {
            "colorbar":{
             "outlinewidth":0,
             "ticks":""
            },
            "colorscale":[
             [
              0,
              "#0d0887"
             ],
             [
              0.1111111111111111,
              "#46039f"
             ],
             [
              0.2222222222222222,
              "#7201a8"
             ],
             [
              0.3333333333333333,
              "#9c179e"
             ],
             [
              0.4444444444444444,
              "#bd3786"
             ],
             [
              0.5555555555555556,
              "#d8576b"
             ],
             [
              0.6666666666666666,
              "#ed7953"
             ],
             [
              0.7777777777777778,
              "#fb9f3a"
             ],
             [
              0.8888888888888888,
              "#fdca26"
             ],
             [
              1,
              "#f0f921"
             ]
            ],
            "type":"histogram2dcontour"
           }
          ],
          "mesh3d":[
           {
            "colorbar":{
             "outlinewidth":0,
             "ticks":""
            },
            "type":"mesh3d"
           }
          ],
          "parcoords":[
           {
            "line":{
             "colorbar":{
              "outlinewidth":0,
              "ticks":""
             }
            },
            "type":"parcoords"
           }
          ],
          "pie":[
           {
            "automargin":true,
            "type":"pie"
           }
          ],
          "scatter":[
           {
            "marker":{
             "colorbar":{
              "outlinewidth":0,
              "ticks":""
             }
            },
            "type":"scatter"
           }
          ],
          "scatter3d":[
           {
            "line":{
             "colorbar":{
              "outlinewidth":0,
              "ticks":""
             }
            },
            "marker":{
             "colorbar":{
              "outlinewidth":0,
              "ticks":""
             }
            },
            "type":"scatter3d"
           }
          ],
          "scattercarpet":[
           {
            "marker":{
             "colorbar":{
              "outlinewidth":0,
              "ticks":""
             }
            },
            "type":"scattercarpet"
           }
          ],
          "scattergeo":[
           {
            "marker":{
             "colorbar":{
              "outlinewidth":0,
              "ticks":""
             }
            },
            "type":"scattergeo"
           }
          ],
          "scattergl":[
           {
            "marker":{
             "colorbar":{
              "outlinewidth":0,
              "ticks":""
             }
            },
            "type":"scattergl"
           }
          ],
          "scattermapbox":[
           {
            "marker":{
             "colorbar":{
              "outlinewidth":0,
              "ticks":""
             }
            },
            "type":"scattermapbox"
           }
          ],
          "scatterpolar":[
           {
            "marker":{
             "colorbar":{
              "outlinewidth":0,
              "ticks":""
             }
            },
            "type":"scatterpolar"
           }
          ],
          "scatterpolargl":[
           {
            "marker":{
             "colorbar":{
              "outlinewidth":0,
              "ticks":""
             }
            },
            "type":"scatterpolargl"
           }
          ],
          "scatterternary":[
           {
            "marker":{
             "colorbar":{
              "outlinewidth":0,
              "ticks":""
             }
            },
            "type":"scatterternary"
           }
          ],
          "surface":[
           {
            "colorbar":{
             "outlinewidth":0,
             "ticks":""
            },
            "colorscale":[
             [
              0,
              "#0d0887"
             ],
             [
              0.1111111111111111,
              "#46039f"
             ],
             [
              0.2222222222222222,
              "#7201a8"
             ],
             [
              0.3333333333333333,
              "#9c179e"
             ],
             [
              0.4444444444444444,
              "#bd3786"
             ],
             [
              0.5555555555555556,
              "#d8576b"
             ],
             [
              0.6666666666666666,
              "#ed7953"
             ],
             [
              0.7777777777777778,
              "#fb9f3a"
             ],
             [
              0.8888888888888888,
              "#fdca26"
             ],
             [
              1,
              "#f0f921"
             ]
            ],
            "type":"surface"
           }
          ],
          "table":[
           {
            "cells":{
             "fill":{
              "color":"#EBF0F8"
             },
             "line":{
              "color":"white"
             }
            },
            "header":{
             "fill":{
              "color":"#C8D4E3"
             },
             "line":{
              "color":"white"
             }
            },
            "type":"table"
           }
          ]
         },
         "layout":{
          "annotationdefaults":{
           "arrowcolor":"#2a3f5f",
           "arrowhead":0,
           "arrowwidth":1
          },
          "autotypenumbers":"strict",
          "coloraxis":{
           "colorbar":{
            "outlinewidth":0,
            "ticks":""
           }
          },
          "colorscale":{
           "diverging":[
            [
             0,
             "#8e0152"
            ],
            [
             0.1,
             "#c51b7d"
            ],
            [
             0.2,
             "#de77ae"
            ],
            [
             0.3,
             "#f1b6da"
            ],
            [
             0.4,
             "#fde0ef"
            ],
            [
             0.5,
             "#f7f7f7"
            ],
            [
             0.6,
             "#e6f5d0"
            ],
            [
             0.7,
             "#b8e186"
            ],
            [
             0.8,
             "#7fbc41"
            ],
            [
             0.9,
             "#4d9221"
            ],
            [
             1,
             "#276419"
            ]
           ],
           "sequential":[
            [
             0,
             "#0d0887"
            ],
            [
             0.1111111111111111,
             "#46039f"
            ],
            [
             0.2222222222222222,
             "#7201a8"
            ],
            [
             0.3333333333333333,
             "#9c179e"
            ],
            [
             0.4444444444444444,
             "#bd3786"
            ],
            [
             0.5555555555555556,
             "#d8576b"
            ],
            [
             0.6666666666666666,
             "#ed7953"
            ],
            [
             0.7777777777777778,
             "#fb9f3a"
            ],
            [
             0.8888888888888888,
             "#fdca26"
            ],
            [
             1,
             "#f0f921"
            ]
           ],
           "sequentialminus":[
            [
             0,
             "#0d0887"
            ],
            [
             0.1111111111111111,
             "#46039f"
            ],
            [
             0.2222222222222222,
             "#7201a8"
            ],
            [
             0.3333333333333333,
             "#9c179e"
            ],
            [
             0.4444444444444444,
             "#bd3786"
            ],
            [
             0.5555555555555556,
             "#d8576b"
            ],
            [
             0.6666666666666666,
             "#ed7953"
            ],
            [
             0.7777777777777778,
             "#fb9f3a"
            ],
            [
             0.8888888888888888,
             "#fdca26"
            ],
            [
             1,
             "#f0f921"
            ]
           ]
          },
          "colorway":[
           "#636efa",
           "#EF553B",
           "#00cc96",
           "#ab63fa",
           "#FFA15A",
           "#19d3f3",
           "#FF6692",
           "#B6E880",
           "#FF97FF",
           "#FECB52"
          ],
          "font":{
           "color":"#2a3f5f"
          },
          "geo":{
           "bgcolor":"white",
           "lakecolor":"white",
           "landcolor":"#E5ECF6",
           "showlakes":true,
           "showland":true,
           "subunitcolor":"white"
          },
          "hoverlabel":{
           "align":"left"
          },
          "hovermode":"closest",
          "mapbox":{
           "style":"light"
          },
          "paper_bgcolor":"white",
          "plot_bgcolor":"#E5ECF6",
          "polar":{
           "angularaxis":{
            "gridcolor":"white",
            "linecolor":"white",
            "ticks":""
           },
           "bgcolor":"#E5ECF6",
           "radialaxis":{
            "gridcolor":"white",
            "linecolor":"white",
            "ticks":""
           }
          },
          "scene":{
           "xaxis":{
            "backgroundcolor":"#E5ECF6",
            "gridcolor":"white",
            "gridwidth":2,
            "linecolor":"white",
            "showbackground":true,
            "ticks":"",
            "zerolinecolor":"white"
           },
           "yaxis":{
            "backgroundcolor":"#E5ECF6",
            "gridcolor":"white",
            "gridwidth":2,
            "linecolor":"white",
            "showbackground":true,
            "ticks":"",
            "zerolinecolor":"white"
           },
           "zaxis":{
            "backgroundcolor":"#E5ECF6",
            "gridcolor":"white",
            "gridwidth":2,
            "linecolor":"white",
            "showbackground":true,
            "ticks":"",
            "zerolinecolor":"white"
           }
          },
          "shapedefaults":{
           "line":{
            "color":"#2a3f5f"
           }
          },
          "ternary":{
           "aaxis":{
            "gridcolor":"white",
            "linecolor":"white",
            "ticks":""
           },
           "baxis":{
            "gridcolor":"white",
            "linecolor":"white",
            "ticks":""
           },
           "bgcolor":"#E5ECF6",
           "caxis":{
            "gridcolor":"white",
            "linecolor":"white",
            "ticks":""
           }
          },
          "title":{
           "x":0.05
          },
          "xaxis":{
           "automargin":true,
           "gridcolor":"white",
           "linecolor":"white",
           "ticks":"",
           "title":{
            "standoff":15
           },
           "zerolinecolor":"white",
           "zerolinewidth":2
          },
          "yaxis":{
           "automargin":true,
           "gridcolor":"white",
           "linecolor":"white",
           "ticks":"",
           "title":{
            "standoff":15
           },
           "zerolinecolor":"white",
           "zerolinewidth":2
          }
         }
        },
        "legend":{
         "title":{
          "text":"Survived"
         },
         "tracegroupgap":0
        },
        "margin":{
         "t":60
        },
        "dragmode":"select"
       },
       "config":{
        "plotlyServerURL":"https:\/\/plot.ly"
       }
      }
     },
     "metadata":{
      
     },
     "output_type":"display_data"
    }
   ],
   "metadata":{
    "datalore":{
     "node_id":"uMFxCgnLc9eJu8i1kgnrEy",
     "type":"CODE",
     "hide_input_from_viewers":false,
     "hide_output_from_viewers":false,
     "report_properties":{
      "rowId":"Lx4OtnsAr9hOkFXY7BOV68",
      "relativeY":0
     }
    }
   }
  },
  {
   "cell_type":"code",
   "source":[
    "sns.factorplot('Survived', col='Pclass', data=train, kind='count', size=7, aspect=.8)\n",
    "plt.subplots_adjust(top=0.9)\n",
    "sns.plt.suptitle('Class wise segregation of passengers', fontsize=16)"
   ],
   "execution_count":19,
   "outputs":[
    {
     "name":"stderr",
     "text":[
      "\/opt\/python\/envs\/default\/lib\/python3.8\/site-packages\/seaborn\/categorical.py:3717: UserWarning:\n",
      "\n",
      "The `factorplot` function has been renamed to `catplot`. The original name will be removed in a future release. Please update your code. Note that the default `kind` in `factorplot` (`'point'`) has changed `'strip'` in `catplot`.\n",
      "\n",
      "\/opt\/python\/envs\/default\/lib\/python3.8\/site-packages\/seaborn\/categorical.py:3723: UserWarning:\n",
      "\n",
      "The `size` parameter has been renamed to `height`; please update your code.\n",
      "\n",
      "\/opt\/python\/envs\/default\/lib\/python3.8\/site-packages\/seaborn\/_decorators.py:36: FutureWarning:\n",
      "\n",
      "Pass the following variable as a keyword arg: x. From version 0.12, the only valid positional argument will be `data`, and passing other arguments without an explicit keyword will result in an error or misinterpretation.\n",
      "\n"
     ],
     "output_type":"stream"
    },
    {
     "ename":"AttributeError",
     "evalue":"AttributeError: module 'seaborn' has no attribute 'plt'",
     "traceback":[
      "\u001b[0;31m---------------------------------------------------------------------------",
      "Traceback (most recent call last)",
      "AttributeError: module 'seaborn' has no attribute 'plt'"
     ],
     "output_type":"error"
    },
    {
     "data":{
      "image\/png":"[encoded data removed]"
     },
     "metadata":{
      "image\/png":{
       
      }
     },
     "output_type":"display_data"
    }
   ],
   "metadata":{
    "datalore":{
     "node_id":"gQruJ5H8o6Je6jYOOBcSlm",
     "type":"CODE",
     "hide_input_from_viewers":false,
     "hide_output_from_viewers":false,
     "report_properties":{
      "rowId":"Lx4OtnsAr9hOkFXY7BOV68",
      "relativeY":0
     }
    }
   }
  },
  {
   "cell_type":"markdown",
   "source":[
    "Como podemos observar la variable 'Pclass' tiene mucha importancia. Los pasajeros que iban en primera tiene mucha más probabilidad de sobrevivir que los que iban en tercera."
   ],
   "attachments":{
    
   },
   "metadata":{
    "datalore":{
     "node_id":"hHulR1XEXQKv6DS7GFt1Oc",
     "type":"MD",
     "hide_input_from_viewers":false,
     "hide_output_from_viewers":false,
     "report_properties":{
      "rowId":"Lx4OtnsAr9hOkFXY7BOV68",
      "relativeY":0
     }
    }
   }
  },
  {
   "cell_type":"code",
   "source":[
    "train['Fare_Category'] = pd.cut(train['Fare'], bins=[0,7.90,14.45,31.28,120], labels=['Low','Mid','High_Mid','High'])"
   ],
   "execution_count":20,
   "outputs":[
    
   ],
   "metadata":{
    "datalore":{
     "node_id":"zuGQwGB5zK28lf2gXcxVCz",
     "type":"CODE",
     "hide_input_from_viewers":false,
     "hide_output_from_viewers":false,
     "report_properties":{
      "rowId":"Lx4OtnsAr9hOkFXY7BOV68",
      "relativeY":0
     }
    }
   }
  },
  {
   "cell_type":"code",
   "source":[
    "sns.factorplot('Survived', col='Embarked', data=train, kind='count', size=7, aspect=.8)\n",
    "plt.subplots_adjust(top=0.9)\n",
    "sns.plt.suptitle('Class wise segregation of passengers', fontsize=16)"
   ],
   "execution_count":21,
   "outputs":[
    {
     "name":"stderr",
     "text":[
      "\/opt\/python\/envs\/default\/lib\/python3.8\/site-packages\/seaborn\/categorical.py:3717: UserWarning:\n",
      "\n",
      "The `factorplot` function has been renamed to `catplot`. The original name will be removed in a future release. Please update your code. Note that the default `kind` in `factorplot` (`'point'`) has changed `'strip'` in `catplot`.\n",
      "\n",
      "\/opt\/python\/envs\/default\/lib\/python3.8\/site-packages\/seaborn\/categorical.py:3723: UserWarning:\n",
      "\n",
      "The `size` parameter has been renamed to `height`; please update your code.\n",
      "\n",
      "\/opt\/python\/envs\/default\/lib\/python3.8\/site-packages\/seaborn\/_decorators.py:36: FutureWarning:\n",
      "\n",
      "Pass the following variable as a keyword arg: x. From version 0.12, the only valid positional argument will be `data`, and passing other arguments without an explicit keyword will result in an error or misinterpretation.\n",
      "\n"
     ],
     "output_type":"stream"
    },
    {
     "ename":"AttributeError",
     "evalue":"AttributeError: module 'seaborn' has no attribute 'plt'",
     "traceback":[
      "\u001b[0;31m---------------------------------------------------------------------------",
      "Traceback (most recent call last)",
      "AttributeError: module 'seaborn' has no attribute 'plt'"
     ],
     "output_type":"error"
    },
    {
     "data":{
      "image\/png":"[encoded data removed]"
     },
     "metadata":{
      "image\/png":{
       
      }
     },
     "output_type":"display_data"
    }
   ],
   "metadata":{
    "datalore":{
     "node_id":"QJXmaMWkaQVMqBPFyhmbrp",
     "type":"CODE",
     "hide_input_from_viewers":false,
     "hide_output_from_viewers":false,
     "report_properties":{
      "rowId":"Lx4OtnsAr9hOkFXY7BOV68",
      "relativeY":0
     }
    }
   }
  },
  {
   "cell_type":"markdown",
   "source":[
    "Algo parecido a lo que sucedía con la variable 'Pclass' ocurre con la variable 'Embarked'. Aquí, los pasajeros que viajaron en C tienen más posibilidades de sobrevivir que los que embarcaron en S."
   ],
   "attachments":{
    
   },
   "metadata":{
    "datalore":{
     "node_id":"oje79P7TuDSgm8A3Fy0Rqk",
     "type":"MD",
     "hide_input_from_viewers":false,
     "hide_output_from_viewers":false,
     "report_properties":{
      "rowId":"Lx4OtnsAr9hOkFXY7BOV68",
      "relativeY":0
     }
    }
   }
  },
  {
   "cell_type":"markdown",
   "source":[
    "# Preprocesamiento de los datos"
   ],
   "attachments":{
    
   },
   "metadata":{
    "datalore":{
     "node_id":"YfUy1F0vfJpNV1JxHna6Fw",
     "type":"MD",
     "hide_input_from_viewers":false,
     "hide_output_from_viewers":false,
     "report_properties":{
      "rowId":"Lx4OtnsAr9hOkFXY7BOV68",
      "relativeY":0
     }
    }
   }
  },
  {
   "cell_type":"code",
   "source":[
    "from sklearn.impute import SimpleImputer\n",
    "from sklearn.pipeline import Pipeline\n",
    "from sklearn.preprocessing import KBinsDiscretizer\n",
    "from sklearn.preprocessing import OneHotEncoder\n",
    "from sklearn.preprocessing import StandardScaler\n",
    "from sklearn.compose import ColumnTransformer\n",
    "from sklearn.tree import DecisionTreeClassifier\n",
    "from sklearn.pipeline import make_pipeline"
   ],
   "execution_count":22,
   "outputs":[
    
   ],
   "metadata":{
    "datalore":{
     "node_id":"Li6U8X5JHVG2KBBKdBSGBl",
     "type":"CODE",
     "hide_input_from_viewers":false,
     "hide_output_from_viewers":false,
     "report_properties":{
      "rowId":"Lx4OtnsAr9hOkFXY7BOV68",
      "relativeY":0
     }
    }
   }
  },
  {
   "cell_type":"markdown",
   "source":[
    "Primero vamos a eliminar los nulos:\n",
    "\n",
    "En nuestra base de datos tenemos tres columnas con nulos, \"Cabin\", que prácticamente todas sus instancias son nulas, la variable \"Age\", que tiene aproximadamente la mitad de casos en nulos, y la variable \"Embarked\", que solo tiene un caso a nulo. Teniendo esto en cuenta vamos a proceder de la siguiente manera:\n",
    "\n",
    "* Cabin: vamos a dropear toda la variable.\n",
    "* Age : vamos a rellenar los casos nulos con la media de la variable.\n",
    "* Embarked: como solo hay un caso vamos a no tener en cuenta esa instancia."
   ],
   "attachments":{
    
   },
   "metadata":{
    "datalore":{
     "node_id":"ldxF7WrZeHRW04YI5lbwIm",
     "type":"MD",
     "hide_input_from_viewers":false,
     "hide_output_from_viewers":false,
     "report_properties":{
      "rowId":"Lx4OtnsAr9hOkFXY7BOV68",
      "relativeY":0
     }
    }
   }
  },
  {
   "cell_type":"code",
   "source":[
    "X_train = X_train.drop(\"Cabin\", axis=1) \n",
    "X_test = X_test.drop(\"Cabin\", axis = 1)"
   ],
   "execution_count":23,
   "outputs":[
    
   ],
   "metadata":{
    "datalore":{
     "node_id":"XhcITG1JG5qjDa4b72KRAq",
     "type":"CODE",
     "hide_input_from_viewers":false,
     "hide_output_from_viewers":false,
     "report_properties":{
      "rowId":"Lx4OtnsAr9hOkFXY7BOV68",
      "relativeY":0
     }
    }
   }
  },
  {
   "cell_type":"code",
   "source":[
    "X_train = X_train.join(y_train)\n",
    "X_train = X_train.dropna(subset=[\"Embarked\"])\n",
    "\n",
    "\n",
    "X_test = X_test.join(y_test)\n",
    "X_test = X_test.dropna(subset=[\"Embarked\"])\n",
    "y_train = X_train[target]\n",
    "X_train = X_train.drop(target,axis=1)\n",
    "\n",
    "y_test = X_test[target]\n",
    "X_test = X_test.drop(target,axis=1)"
   ],
   "execution_count":24,
   "outputs":[
    
   ],
   "metadata":{
    "datalore":{
     "node_id":"JlFSLotsXXGmAP0APSGae5",
     "type":"CODE",
     "hide_input_from_viewers":false,
     "hide_output_from_viewers":false,
     "report_properties":{
      "rowId":"Lx4OtnsAr9hOkFXY7BOV68",
      "relativeY":0
     }
    }
   }
  },
  {
   "cell_type":"markdown",
   "source":[
    "Ahora vamos a crear los pipelines y como funcionarán estos. También creamos el primer pipeline que será más complejo."
   ],
   "attachments":{
    
   },
   "metadata":{
    "datalore":{
     "node_id":"3fdG0cGPoLZ9lm7hhcM641",
     "type":"MD",
     "hide_input_from_viewers":false,
     "hide_output_from_viewers":false,
     "report_properties":{
      "rowId":"Lx4OtnsAr9hOkFXY7BOV68",
      "relativeY":0
     }
    }
   }
  },
  {
   "cell_type":"code",
   "source":[
    "numeric_features = [\"SibSp\",\"Pclass\",\"Parch\"]\n",
    "numeric_featuresDiscretizer = [\"Age\",\"Fare\"]\n",
    "categorical_features = [\"Embarked\",\"Sex\"]\n",
    "\n",
    "numeric_transformer = Pipeline(\n",
    "    steps=[(\"imputer\", SimpleImputer(strategy=\"median\")), (\"scaler\", StandardScaler())]\n",
    ")\n",
    "numericDis_transformer = Pipeline(\n",
    "    steps=[(\"imputer\", SimpleImputer(strategy=\"median\")), (\"scaler\", StandardScaler()),(\"discretizer\", KBinsDiscretizer(n_bins=10,encode=\"onehot\",strategy=\"uniform\"))]\n",
    ")\n",
    "\n",
    "categorical_transformer = OneHotEncoder(handle_unknown=\"ignore\")\n",
    "\n",
    "\n",
    "preprocessor1 = ColumnTransformer(\n",
    "    transformers=[\n",
    "        (\"num\", numeric_transformer, numeric_features),\n",
    "        (\"cat\", categorical_transformer, categorical_features),\n",
    "        (\"numdis\",numericDis_transformer, numeric_featuresDiscretizer)\n",
    "    ]\n",
    ")"
   ],
   "execution_count":25,
   "outputs":[
    
   ],
   "metadata":{
    "datalore":{
     "node_id":"pzHLuoAVYHwADnBOFmuTBs",
     "type":"CODE",
     "hide_input_from_viewers":false,
     "hide_output_from_viewers":false,
     "report_properties":{
      "rowId":"Lx4OtnsAr9hOkFXY7BOV68",
      "relativeY":0
     }
    }
   }
  },
  {
   "cell_type":"markdown",
   "source":[
    "Vamos creando el segundo pipeline. Este será más sencillo y por tanto solo tendrá imputer. Lo usaremos para contrastar los pipelines."
   ],
   "attachments":{
    
   },
   "metadata":{
    "datalore":{
     "node_id":"REHkKFVwRc1Y1IzM5NBolp",
     "type":"MD",
     "hide_input_from_viewers":false,
     "hide_output_from_viewers":false,
     "report_properties":{
      "rowId":"Lx4OtnsAr9hOkFXY7BOV68",
      "relativeY":0
     }
    }
   }
  },
  {
   "cell_type":"code",
   "source":[
    "numeric_transformer = Pipeline(\n",
    "    steps=[(\"imputer\", SimpleImputer(strategy=\"median\"))]\n",
    ")\n",
    "preprocessor2 = ColumnTransformer(\n",
    "    transformers=[\n",
    "        (\"num\", numeric_transformer, numeric_features+numeric_featuresDiscretizer),\n",
    "        (\"cat\", categorical_transformer, categorical_features)\n",
    "    ]\n",
    ")"
   ],
   "execution_count":26,
   "outputs":[
    
   ],
   "metadata":{
    "datalore":{
     "node_id":"VFiEr9v7ksnLjCHKxwnWzx",
     "type":"CODE",
     "hide_input_from_viewers":false,
     "hide_output_from_viewers":false,
     "report_properties":{
      "rowId":"Lx4OtnsAr9hOkFXY7BOV68",
      "relativeY":0
     }
    }
   }
  },
  {
   "cell_type":"markdown",
   "source":[
    "### Primer pipeline"
   ],
   "attachments":{
    
   },
   "metadata":{
    "datalore":{
     "node_id":"xfG59BNFfKZcRGVuIGfoFW",
     "type":"MD",
     "hide_input_from_viewers":false,
     "hide_output_from_viewers":false,
     "report_properties":{
      "rowId":"Lx4OtnsAr9hOkFXY7BOV68",
      "relativeY":0
     }
    }
   }
  },
  {
   "cell_type":"code",
   "source":[
    "p1Tree = make_pipeline(preprocessor1, DecisionTreeClassifier(random_state = seed))"
   ],
   "execution_count":27,
   "outputs":[
    
   ],
   "metadata":{
    "datalore":{
     "node_id":"L0MIGhRAz7p42Ixay9ygSF",
     "type":"CODE",
     "hide_input_from_viewers":false,
     "hide_output_from_viewers":false,
     "report_properties":{
      "rowId":"Lx4OtnsAr9hOkFXY7BOV68",
      "relativeY":0
     }
    }
   }
  },
  {
   "cell_type":"code",
   "source":[
    "dummy = estimators[\"DummyClassifier\"]\n",
    "p1ZeroR = make_pipeline(preprocessor1,dummy(strategy=\"most_frequent\"))"
   ],
   "execution_count":28,
   "outputs":[
    
   ],
   "metadata":{
    "datalore":{
     "node_id":"yY2Z9uwsErSV5BFD1Vf1No",
     "type":"CODE",
     "hide_input_from_viewers":false,
     "hide_output_from_viewers":false,
     "report_properties":{
      "rowId":"Lx4OtnsAr9hOkFXY7BOV68",
      "relativeY":0
     }
    }
   }
  },
  {
   "cell_type":"markdown",
   "source":[
    "Evaluamos el primer pipeline y el Zero-R "
   ],
   "attachments":{
    
   },
   "metadata":{
    "datalore":{
     "node_id":"tnJscouxKUQrU2ePIxnLF0",
     "type":"MD",
     "hide_input_from_viewers":false,
     "hide_output_from_viewers":false,
     "report_properties":{
      "rowId":"Lx4OtnsAr9hOkFXY7BOV68",
      "relativeY":0
     }
    }
   }
  },
  {
   "cell_type":"code",
   "source":[
    "\n",
    "evaluate = lambda estimator, X_train,y_train: estimator.fit(X_train, y_train).score(X_train, y_train)\n",
    "evaluate(p1Tree,X_train,y_train)"
   ],
   "execution_count":29,
   "outputs":[
    {
     "data":{
      "text\/plain":[
       "0.8938906752411575"
      ]
     },
     "metadata":{
      
     },
     "output_type":"display_data"
    }
   ],
   "metadata":{
    "datalore":{
     "node_id":"m02pEAk9hhFACsIk1VxnVz",
     "type":"CODE",
     "hide_input_from_viewers":false,
     "hide_output_from_viewers":false,
     "report_properties":{
      "rowId":"Lx4OtnsAr9hOkFXY7BOV68",
      "relativeY":0
     }
    }
   }
  },
  {
   "cell_type":"code",
   "source":[
    "evaluate(p1ZeroR,X_train,y_train)"
   ],
   "execution_count":30,
   "outputs":[
    {
     "data":{
      "text\/plain":[
       "0.6302250803858521"
      ]
     },
     "metadata":{
      
     },
     "output_type":"display_data"
    }
   ],
   "metadata":{
    "datalore":{
     "node_id":"b3XZsNrCKp2v0vTScVGtvW",
     "type":"CODE",
     "hide_input_from_viewers":false,
     "hide_output_from_viewers":false,
     "report_properties":{
      "rowId":"Lx4OtnsAr9hOkFXY7BOV68",
      "relativeY":0
     }
    }
   }
  },
  {
   "cell_type":"markdown",
   "source":[
    "### Segundo pipeline"
   ],
   "attachments":{
    
   },
   "metadata":{
    "datalore":{
     "node_id":"0fog0X4lme017RhCTdIIXa",
     "type":"MD",
     "hide_input_from_viewers":false,
     "hide_output_from_viewers":false,
     "report_properties":{
      "rowId":"Lx4OtnsAr9hOkFXY7BOV68",
      "relativeY":0
     }
    }
   }
  },
  {
   "cell_type":"code",
   "source":[
    "p2Tree = make_pipeline(preprocessor2, DecisionTreeClassifier(random_state = seed))\n",
    "p2ZeroR = make_pipeline(preprocessor2,dummy(strategy=\"most_frequent\"))"
   ],
   "execution_count":31,
   "outputs":[
    
   ],
   "metadata":{
    "datalore":{
     "node_id":"5PjmiFMgl0ahuET03mYnKL",
     "type":"CODE",
     "hide_input_from_viewers":false,
     "hide_output_from_viewers":false,
     "report_properties":{
      "rowId":"Lx4OtnsAr9hOkFXY7BOV68",
      "relativeY":0
     }
    }
   }
  },
  {
   "cell_type":"markdown",
   "source":[
    "Evaluamos el segundo pipeline."
   ],
   "attachments":{
    
   },
   "metadata":{
    "datalore":{
     "node_id":"qzZTK57KMx0XwDLy9oPTFz",
     "type":"MD",
     "hide_input_from_viewers":false,
     "hide_output_from_viewers":false,
     "report_properties":{
      "rowId":"Lx4OtnsAr9hOkFXY7BOV68",
      "relativeY":0
     }
    }
   }
  },
  {
   "cell_type":"code",
   "source":[
    "evaluate(p2Tree,X_train,y_train)"
   ],
   "execution_count":32,
   "outputs":[
    {
     "data":{
      "text\/plain":[
       "0.9807073954983923"
      ]
     },
     "metadata":{
      
     },
     "output_type":"display_data"
    }
   ],
   "metadata":{
    "datalore":{
     "node_id":"g4uCOl6VVM6R24xIKL64n8",
     "type":"CODE",
     "hide_input_from_viewers":false,
     "hide_output_from_viewers":false,
     "report_properties":{
      "rowId":"Lx4OtnsAr9hOkFXY7BOV68",
      "relativeY":0
     }
    }
   }
  },
  {
   "cell_type":"code",
   "source":[
    "evaluate(p2ZeroR,X_train,y_train)"
   ],
   "execution_count":33,
   "outputs":[
    {
     "data":{
      "text\/plain":[
       "0.6302250803858521"
      ]
     },
     "metadata":{
      
     },
     "output_type":"display_data"
    }
   ],
   "metadata":{
    "datalore":{
     "node_id":"K0YovdyHGh8uCYkUeYhodD",
     "type":"CODE",
     "hide_input_from_viewers":false,
     "hide_output_from_viewers":false,
     "report_properties":{
      "rowId":"Lx4OtnsAr9hOkFXY7BOV68",
      "relativeY":0
     }
    }
   }
  },
  {
   "cell_type":"markdown",
   "source":[
    "# Evaluación"
   ],
   "attachments":{
    
   },
   "metadata":{
    "datalore":{
     "node_id":"jcvgqaGR3jlagS390h72Hz",
     "type":"MD",
     "hide_input_from_viewers":false,
     "hide_output_from_viewers":false,
     "report_properties":{
      "rowId":"Lx4OtnsAr9hOkFXY7BOV68",
      "relativeY":0
     }
    }
   }
  },
  {
   "cell_type":"markdown",
   "source":[
    "Para la evaluación del modelo vamos a utilizar diferentes técnicas y a mostrar algunas métricas:\n",
    "- Primero obtendremos la matriz de confusión\n",
    "- Luego haremos un score simple para ver como se comporta el modelo contra el conjunto de test.\n",
    "- Con el método de validación cruzada obtendremos un scorede los árboles más cercano al comportamiento real.\n",
    "- Mostramos la métrica F1, que es un resumen visual del comportamiento del modelo en términos de precision y recall.\n",
    "- Mostramos la curva roc de cada modelo. Cuanto mayor sea el área encerrada entre la curva y el eje de la x, mejor va a ser el modelo."
   ],
   "attachments":{
    
   },
   "metadata":{
    "datalore":{
     "node_id":"HQfWhsbS8yiSiSvxHxgvi8",
     "type":"MD",
     "hide_input_from_viewers":false,
     "hide_output_from_viewers":false,
     "report_properties":{
      "rowId":"Lx4OtnsAr9hOkFXY7BOV68",
      "relativeY":0
     }
    }
   }
  },
  {
   "cell_type":"code",
   "source":[
    "from sklearn import metrics"
   ],
   "execution_count":34,
   "outputs":[
    
   ],
   "metadata":{
    "datalore":{
     "node_id":"H1vaZef32v5ZRR0r24fiJd",
     "type":"CODE",
     "hide_input_from_viewers":false,
     "hide_output_from_viewers":false,
     "report_properties":{
      "rowId":"Lx4OtnsAr9hOkFXY7BOV68",
      "relativeY":0
     }
    }
   }
  },
  {
   "cell_type":"code",
   "source":[
    "y_pred = p1Tree.predict(X_test)\n",
    "y_pred2 = p2Tree.predict(X_test)"
   ],
   "execution_count":35,
   "outputs":[
    
   ],
   "metadata":{
    "datalore":{
     "node_id":"ZCBZHWrG83bobuJDusPZ7o",
     "type":"CODE",
     "hide_input_from_viewers":false,
     "hide_output_from_viewers":false,
     "report_properties":{
      "rowId":"Lx4OtnsAr9hOkFXY7BOV68",
      "relativeY":0
     }
    }
   }
  },
  {
   "cell_type":"code",
   "source":[
    "metrics.confusion_matrix(y_test,y_pred)"
   ],
   "execution_count":36,
   "outputs":[
    {
     "data":{
      "text\/html":[
       
      ]
     },
     "metadata":{
      
     },
     "output_type":"display_data"
    }
   ],
   "metadata":{
    "datalore":{
     "node_id":"DGIVqDau6YEnLuiLy9dVqo",
     "type":"CODE",
     "hide_input_from_viewers":false,
     "hide_output_from_viewers":false,
     "report_properties":{
      "rowId":"Lx4OtnsAr9hOkFXY7BOV68",
      "relativeY":0
     }
    }
   }
  },
  {
   "cell_type":"code",
   "source":[
    "p1Tree.score(X_test,y_test)"
   ],
   "execution_count":37,
   "outputs":[
    {
     "data":{
      "text\/plain":[
       "0.7602996254681648"
      ]
     },
     "metadata":{
      
     },
     "output_type":"display_data"
    }
   ],
   "metadata":{
    "datalore":{
     "node_id":"IbN5NjQmi0wvnneZyW9hyU",
     "type":"CODE",
     "hide_input_from_viewers":false,
     "hide_output_from_viewers":false,
     "report_properties":{
      "rowId":"Lx4OtnsAr9hOkFXY7BOV68",
      "relativeY":0
     }
    }
   }
  },
  {
   "cell_type":"code",
   "source":[
    "metrics.confusion_matrix(y_test,y_pred2)"
   ],
   "execution_count":38,
   "outputs":[
    {
     "data":{
      "text\/html":[
       
      ]
     },
     "metadata":{
      
     },
     "output_type":"display_data"
    }
   ],
   "metadata":{
    "datalore":{
     "node_id":"kmsVAba6VIldpZyPbJcDHA",
     "type":"CODE",
     "hide_input_from_viewers":false,
     "hide_output_from_viewers":false,
     "report_properties":{
      "rowId":"Lx4OtnsAr9hOkFXY7BOV68",
      "relativeY":0
     }
    }
   }
  },
  {
   "cell_type":"code",
   "source":[
    "p2Tree.score(X_test,y_test)"
   ],
   "execution_count":39,
   "outputs":[
    {
     "data":{
      "text\/plain":[
       "0.7453183520599251"
      ]
     },
     "metadata":{
      
     },
     "output_type":"display_data"
    }
   ],
   "metadata":{
    "datalore":{
     "node_id":"BobONXwKSJrKRfhEwbREc5",
     "type":"CODE",
     "hide_input_from_viewers":false,
     "hide_output_from_viewers":false,
     "report_properties":{
      "rowId":"Lx4OtnsAr9hOkFXY7BOV68",
      "relativeY":0
     }
    }
   }
  },
  {
   "cell_type":"markdown",
   "source":[
    "Como podemos ver, el score del arbol con el pipeline más complejo es mayor que el que solo tiene imputer."
   ],
   "attachments":{
    
   },
   "metadata":{
    "datalore":{
     "node_id":"FAyBdkamrD3mQlHJfXNWZC",
     "type":"MD",
     "hide_input_from_viewers":false,
     "hide_output_from_viewers":false,
     "report_properties":{
      "rowId":"Lx4OtnsAr9hOkFXY7BOV68",
      "relativeY":0
     }
    }
   }
  },
  {
   "cell_type":"code",
   "source":[
    "from sklearn.model_selection import cross_val_score\n",
    "scoresp1 = cross_val_score(p1Tree, X, y, cv=5)\n",
    "scoresp1.mean()"
   ],
   "execution_count":40,
   "outputs":[
    {
     "data":{
      "text\/plain":[
       "0.7834034272801456"
      ]
     },
     "metadata":{
      
     },
     "output_type":"display_data"
    }
   ],
   "metadata":{
    "datalore":{
     "node_id":"7lss4RCTjBz6osM5lTvTaP",
     "type":"CODE",
     "hide_input_from_viewers":false,
     "hide_output_from_viewers":false,
     "report_properties":{
      "rowId":"Lx4OtnsAr9hOkFXY7BOV68",
      "relativeY":0
     }
    }
   }
  },
  {
   "cell_type":"code",
   "source":[
    "scoresp2 = cross_val_score(p2Tree,X,y,cv=5)\n",
    "scoresp2.mean()"
   ],
   "execution_count":41,
   "outputs":[
    {
     "data":{
      "text\/plain":[
       "0.77558847529973"
      ]
     },
     "metadata":{
      
     },
     "output_type":"display_data"
    }
   ],
   "metadata":{
    "datalore":{
     "node_id":"Q1N26a2x47cvo0DeBv173N",
     "type":"CODE",
     "hide_input_from_viewers":false,
     "hide_output_from_viewers":false,
     "report_properties":{
      "rowId":"Lx4OtnsAr9hOkFXY7BOV68",
      "relativeY":0
     }
    }
   }
  },
  {
   "cell_type":"code",
   "source":[
    "scoresp3 = cross_val_score(p1ZeroR,X,y,cv=5)\n",
    "scoresp3.mean()"
   ],
   "execution_count":42,
   "outputs":[
    {
     "data":{
      "text\/plain":[
       "0.6161634548992531"
      ]
     },
     "metadata":{
      
     },
     "output_type":"display_data"
    }
   ],
   "metadata":{
    "datalore":{
     "node_id":"PqA0bsoEEXNtLL9RwEmE5X",
     "type":"CODE",
     "hide_input_from_viewers":false,
     "hide_output_from_viewers":false,
     "report_properties":{
      "rowId":"Lx4OtnsAr9hOkFXY7BOV68",
      "relativeY":0
     }
    }
   }
  },
  {
   "cell_type":"code",
   "source":[
    "scoresp4 = cross_val_score(p2ZeroR,X,y,cv=5)\n",
    "scoresp4.mean()"
   ],
   "execution_count":43,
   "outputs":[
    {
     "data":{
      "text\/plain":[
       "0.6161634548992531"
      ]
     },
     "metadata":{
      
     },
     "output_type":"display_data"
    }
   ],
   "metadata":{
    "datalore":{
     "node_id":"szB9TO55TS33WPFrz0Mwy5",
     "type":"CODE",
     "hide_input_from_viewers":false,
     "hide_output_from_viewers":false,
     "report_properties":{
      "rowId":"Lx4OtnsAr9hOkFXY7BOV68",
      "relativeY":0
     }
    }
   }
  },
  {
   "cell_type":"markdown",
   "source":[
    "En este caso los score de los arboles con pipeline tienen un score parecido y ambos tienen mayor score que los Zero-R."
   ],
   "attachments":{
    
   },
   "metadata":{
    "datalore":{
     "node_id":"waw6r73fJt7ebD2ilMrlJt",
     "type":"MD",
     "hide_input_from_viewers":false,
     "hide_output_from_viewers":false,
     "report_properties":{
      "rowId":"Lx4OtnsAr9hOkFXY7BOV68",
      "relativeY":0
     }
    }
   }
  },
  {
   "cell_type":"code",
   "source":[
    "metrics.f1_score(y_test,y_pred,average=None)"
   ],
   "execution_count":44,
   "outputs":[
    {
     "data":{
      "text\/html":[
       
      ]
     },
     "metadata":{
      
     },
     "output_type":"display_data"
    }
   ],
   "metadata":{
    "datalore":{
     "node_id":"DgEQpOLICj6V5CE90Il6Nr",
     "type":"CODE",
     "hide_input_from_viewers":false,
     "hide_output_from_viewers":false,
     "report_properties":{
      "rowId":"Lx4OtnsAr9hOkFXY7BOV68",
      "relativeY":0
     }
    }
   }
  },
  {
   "cell_type":"markdown",
   "source":[
    "El arbol con el pipeline complejo nos da una estimación buena sobre si alguien está muerto (0), pero puede tener más error si dice que la persona está viva (1). "
   ],
   "attachments":{
    
   },
   "metadata":{
    "datalore":{
     "node_id":"YR8ly65zRVSW3x01ldgosN",
     "type":"MD",
     "hide_input_from_viewers":false,
     "hide_output_from_viewers":false,
     "report_properties":{
      "rowId":"Lx4OtnsAr9hOkFXY7BOV68",
      "relativeY":0
     }
    }
   }
  },
  {
   "cell_type":"code",
   "source":[
    "metrics.plot_roc_curve(p1Tree, X_test, y_test)\n",
    "plt.show"
   ],
   "execution_count":45,
   "outputs":[
    {
     "name":"stderr",
     "text":[
      "\/opt\/python\/envs\/default\/lib\/python3.8\/site-packages\/sklearn\/utils\/deprecation.py:87: FutureWarning:\n",
      "\n",
      "Function plot_roc_curve is deprecated; Function `plot_roc_curve` is deprecated in 1.0 and will be removed in 1.2. Use one of the class methods: RocCurveDisplay.from_predictions or RocCurveDisplay.from_estimator.\n",
      "\n"
     ],
     "output_type":"stream"
    },
    {
     "data":{
      "text\/plain":[
       "<function matplotlib.pyplot.show(close=None, block=None)>"
      ]
     },
     "metadata":{
      
     },
     "output_type":"display_data"
    },
    {
     "data":{
      "image\/png":"[encoded data removed]"
     },
     "metadata":{
      "image\/png":{
       
      }
     },
     "output_type":"display_data"
    }
   ],
   "metadata":{
    "datalore":{
     "node_id":"sN3LUVcsvw78WnrTHJ40NO",
     "type":"CODE",
     "hide_input_from_viewers":false,
     "hide_output_from_viewers":false,
     "report_properties":{
      "rowId":"Lx4OtnsAr9hOkFXY7BOV68",
      "relativeY":0
     }
    }
   }
  },
  {
   "cell_type":"code",
   "source":[
    "metrics.plot_roc_curve(p2Tree, X_test, y_test)\n",
    "plt.show"
   ],
   "execution_count":46,
   "outputs":[
    {
     "name":"stderr",
     "text":[
      "\/opt\/python\/envs\/default\/lib\/python3.8\/site-packages\/sklearn\/utils\/deprecation.py:87: FutureWarning:\n",
      "\n",
      "Function plot_roc_curve is deprecated; Function `plot_roc_curve` is deprecated in 1.0 and will be removed in 1.2. Use one of the class methods: RocCurveDisplay.from_predictions or RocCurveDisplay.from_estimator.\n",
      "\n"
     ],
     "output_type":"stream"
    },
    {
     "data":{
      "text\/plain":[
       "<function matplotlib.pyplot.show(close=None, block=None)>"
      ]
     },
     "metadata":{
      
     },
     "output_type":"display_data"
    },
    {
     "data":{
      "image\/png":"[encoded data removed]"
     },
     "metadata":{
      "image\/png":{
       
      }
     },
     "output_type":"display_data"
    }
   ],
   "metadata":{
    "datalore":{
     "node_id":"wa8ll3x1RpsIqJ1VDuVuA2",
     "type":"CODE",
     "hide_input_from_viewers":false,
     "hide_output_from_viewers":false,
     "report_properties":{
      "rowId":"Lx4OtnsAr9hOkFXY7BOV68",
      "relativeY":0
     }
    }
   }
  },
  {
   "cell_type":"code",
   "source":[
    "metrics.plot_roc_curve(p1ZeroR, X_test, y_test)\n",
    "plt.show"
   ],
   "execution_count":47,
   "outputs":[
    {
     "name":"stderr",
     "text":[
      "\/opt\/python\/envs\/default\/lib\/python3.8\/site-packages\/sklearn\/utils\/deprecation.py:87: FutureWarning:\n",
      "\n",
      "Function plot_roc_curve is deprecated; Function `plot_roc_curve` is deprecated in 1.0 and will be removed in 1.2. Use one of the class methods: RocCurveDisplay.from_predictions or RocCurveDisplay.from_estimator.\n",
      "\n"
     ],
     "output_type":"stream"
    },
    {
     "data":{
      "text\/plain":[
       "<function matplotlib.pyplot.show(close=None, block=None)>"
      ]
     },
     "metadata":{
      
     },
     "output_type":"display_data"
    },
    {
     "data":{
      "image\/png":"[encoded data removed]"
     },
     "metadata":{
      "image\/png":{
       
      }
     },
     "output_type":"display_data"
    }
   ],
   "metadata":{
    "datalore":{
     "node_id":"QXMzhENzwmzoCq7dtvueQS",
     "type":"CODE",
     "hide_input_from_viewers":false,
     "hide_output_from_viewers":false,
     "report_properties":{
      "rowId":"Lx4OtnsAr9hOkFXY7BOV68",
      "relativeY":0
     }
    }
   }
  },
  {
   "cell_type":"markdown",
   "source":[
    "Como era de esperar, la curva ROC del arbol con un pipeline más complejo es mejor que la del pipeline simple, siendo ambas muchísimo mejor que la del Zero-R."
   ],
   "attachments":{
    
   },
   "metadata":{
    "datalore":{
     "node_id":"jZQBsS5ef6O7wdzGKgIMcg",
     "type":"MD",
     "hide_input_from_viewers":false,
     "hide_output_from_viewers":false,
     "report_properties":{
      "rowId":"Lx4OtnsAr9hOkFXY7BOV68",
      "relativeY":0
     }
    }
   }
  },
  {
   "cell_type":"code",
   "source":[
    
   ],
   "execution_count":null,
   "outputs":[
    
   ],
   "metadata":{
    "datalore":{
     "node_id":"pzTLE3fJpy2oIGbwcBpVoq",
     "type":"CODE",
     "hide_input_from_viewers":false,
     "hide_output_from_viewers":false,
     "report_properties":{
      "rowId":"Lx4OtnsAr9hOkFXY7BOV68"
     }
    }
   }
  }
 ],
 "metadata":{
  "kernelspec":{
   "display_name":"Python",
   "language":"python",
   "name":"python"
  },
  "datalore":{
   "computation_mode":"JUPYTER",
   "package_manager":"pip",
   "base_environment":"default",
   "packages":[
    
   ],
   "report_row_ids":[
    "Lx4OtnsAr9hOkFXY7BOV68"
   ],
   "version":3
  }
 },
 "nbformat":4,
 "nbformat_minor":4
}